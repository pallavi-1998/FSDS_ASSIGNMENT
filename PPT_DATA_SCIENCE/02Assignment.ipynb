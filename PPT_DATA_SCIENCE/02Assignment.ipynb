{
 "cells": [
  {
   "cell_type": "markdown",
   "metadata": {},
   "source": [
    "1. Scenario: A company wants to analyze the sales performance of its products in different regions. They have collected the following data:\n",
    "   Region A: [10, 15, 12, 8, 14]\n",
    "   Region B: [18, 20, 16, 22, 25]\n",
    "   Calculate the mean sales for each region.\n",
    "\n",
    "2. Scenario: A survey is conducted to measure customer satisfaction on a scale of 1 to 5. The data collected is as follows:\n",
    "   [4, 5, 2, 3, 5, 4, 3, 2, 4, 5]\n",
    "   Calculate the mode of the survey responses.\n",
    "\n",
    "3. Scenario: A company wants to compare the salaries of two departments. The salary data for Department A and Department B are as follows:\n",
    "   Department A: [5000, 6000, 5500, 7000]\n",
    "   Department B: [4500, 5500, 5800, 6000, 5200]\n",
    "   Calculate the median salary for each department.\n",
    "\n",
    "4. Scenario: A data analyst wants to determine the variability in the daily stock prices of a company. The data collected is as follows:\n",
    "   [25.5, 24.8, 26.1, 25.3, 24.9]\n",
    "   Calculate the range of the stock prices.\n",
    "\n",
    "5. Scenario: A study is conducted to compare the performance of two different teaching methods. The test scores of the students in each group are as follows:\n",
    "   Group A: [85, 90, 92, 88, 91]\n",
    "   Group B: [82, 88, 90, 86, 87]\n",
    "   Perform a t-test to determine if there is a significant difference in the mean scores between the two groups.\n",
    "\n",
    "6. Scenario: A company wants to analyze the relationship between advertising expenditure and sales. The data collected is as follows:\n",
    "   Advertising Expenditure (in thousands): [10, 15, 12, 8, 14]\n",
    "   Sales (in thousands): [25, 30, 28, 20, 26]\n",
    "   Calculate the correlation coefficient between advertising expenditure and sales.\n",
    "\n",
    "7. Scenario: A survey is conducted to measure the heights of a group of people. The data collected is as follows:\n",
    "   [160, 170, 165, 155, 175, 180, 170]\n",
    "   Calculate the standard deviation of the heights.\n",
    "\n",
    "8. Scenario: A company wants to analyze the relationship between employee tenure and job satisfaction. The data collected is as follows:\n",
    "   Employee Tenure (in years): [2, 3, 5, 4, 6, 2, 4]\n",
    "   Job Satisfaction (on a scale of 1 to 10): [7, 8, 6, 9, 5, 7, 6]\n",
    "   Perform a linear regression analysis to predict job satisfaction based on employee tenure.\n",
    "\n",
    "9. Scenario: A study is conducted to compare the effectiveness of two different medications. The recovery times of the patients in each group are as follows:\n",
    "   Medication A: [10, 12, 14, 11, 13]\n",
    "   Medication B: [15, 17, 16, 14, 18]\n",
    "   Perform an analysis of variance (ANOVA) to determine if there is a significant difference in the mean recovery times between the two medications.\n",
    "\n",
    "10. Scenario: A company wants to analyze customer feedback ratings on a scale of 1 to 10. The data collected is\n",
    "\n",
    " as follows:\n",
    "    [8, 9, 7, 6, 8, 10, 9, 8, 7, 8]\n",
    "    Calculate the 75th percentile of the feedback ratings.\n",
    "\n"
   ]
  },
  {
   "cell_type": "code",
   "execution_count": 2,
   "metadata": {},
   "outputs": [],
   "source": [
    "import numpy as np"
   ]
  },
  {
   "cell_type": "code",
   "execution_count": 1,
   "metadata": {},
   "outputs": [
    {
     "name": "stdout",
     "output_type": "stream",
     "text": [
      "11.8\n",
      "20.2\n"
     ]
    }
   ],
   "source": [
    "#ans = 1\n",
    "\n",
    "region_1 = [10, 15, 12, 8, 14]\n",
    "region_2 = [18, 20, 16, 22, 25]\n",
    "\n",
    "print(np.mean(region_1))\n",
    "print(np.mean(region_2))"
   ]
  },
  {
   "cell_type": "code",
   "execution_count": 5,
   "metadata": {},
   "outputs": [
    {
     "name": "stdout",
     "output_type": "stream",
     "text": [
      "4\n"
     ]
    }
   ],
   "source": [
    "#ans = 2\n",
    "import statistics as stat\n",
    "\n",
    "data = [4, 5, 2, 3, 5, 4, 3, 2, 4, 5]\n",
    "print(stat.mode(data))"
   ]
  },
  {
   "cell_type": "code",
   "execution_count": 6,
   "metadata": {},
   "outputs": [
    {
     "name": "stdout",
     "output_type": "stream",
     "text": [
      "5750.0\n",
      "5500.0\n"
     ]
    }
   ],
   "source": [
    "#ans =  3\n",
    "\n",
    "Department_A = [5000, 6000, 5500, 7000]\n",
    "Department_B = [4500, 5500, 5800, 6000, 5200]\n",
    "\n",
    "print(np.median(Department_A))\n",
    "print(np.median(Department_B))"
   ]
  },
  {
   "cell_type": "code",
   "execution_count": 8,
   "metadata": {},
   "outputs": [
    {
     "name": "stdout",
     "output_type": "stream",
     "text": [
      "1.3\n"
     ]
    }
   ],
   "source": [
    "# ans = 4\n",
    "\n",
    "stock_prize = [25.5, 24.8, 26.1, 25.3, 24.9]\n",
    "\n",
    "range = max(stock_prize) - min(stock_prize)\n",
    "\n",
    "print(round(range, 2))"
   ]
  },
  {
   "cell_type": "code",
   "execution_count": 18,
   "metadata": {},
   "outputs": [
    {
     "name": "stdout",
     "output_type": "stream",
     "text": [
      "89.2 86.6\n",
      "6.160000000000001 7.039999999999999\n",
      "Ratio = 0.88\n",
      "p-value =  0.19\n",
      "Reject null hypothesis\n"
     ]
    }
   ],
   "source": [
    "# ans = 5\n",
    "\n",
    "# H0 = two population means are equal\n",
    "# H1 = two population means are not equal\n",
    "\n",
    "from scipy import stats\n",
    "\n",
    "Group_A = [85, 90, 92, 88, 91]\n",
    "Group_B = [82, 88, 90, 86, 87]\n",
    "\n",
    "print(np.mean(Group_A), np.mean(Group_B))\n",
    "print(np.var(Group_A), np.var(Group_B))\n",
    "print(f\"Ratio = {round(np.var(Group_A)/np.var(Group_B) , 2)}\")  # less than 4 so  we can assume the population variance are equal.\n",
    "\n",
    "_, p_value = stats.ttest_ind(a = Group_A, b = Group_B, equal_var=True)\n",
    "\n",
    "print(\"p-value = \",round(p_value, 2))\n",
    "\n",
    "alpha = 0.05\n",
    "if p_value > alpha:\n",
    "    print(\"Reject null hypothesis\")\n",
    "else:\n",
    "    print(\"Accept the null hypothesis\") "
   ]
  },
  {
   "cell_type": "code",
   "execution_count": 27,
   "metadata": {},
   "outputs": [
    {
     "data": {
      "text/html": [
       "<div>\n",
       "<style scoped>\n",
       "    .dataframe tbody tr th:only-of-type {\n",
       "        vertical-align: middle;\n",
       "    }\n",
       "\n",
       "    .dataframe tbody tr th {\n",
       "        vertical-align: top;\n",
       "    }\n",
       "\n",
       "    .dataframe thead th {\n",
       "        text-align: right;\n",
       "    }\n",
       "</style>\n",
       "<table border=\"1\" class=\"dataframe\">\n",
       "  <thead>\n",
       "    <tr style=\"text-align: right;\">\n",
       "      <th></th>\n",
       "      <th>Advertising_Expenditure</th>\n",
       "      <th>Sales</th>\n",
       "    </tr>\n",
       "  </thead>\n",
       "  <tbody>\n",
       "    <tr>\n",
       "      <th>0</th>\n",
       "      <td>10</td>\n",
       "      <td>25</td>\n",
       "    </tr>\n",
       "    <tr>\n",
       "      <th>1</th>\n",
       "      <td>15</td>\n",
       "      <td>30</td>\n",
       "    </tr>\n",
       "    <tr>\n",
       "      <th>2</th>\n",
       "      <td>12</td>\n",
       "      <td>28</td>\n",
       "    </tr>\n",
       "    <tr>\n",
       "      <th>3</th>\n",
       "      <td>8</td>\n",
       "      <td>20</td>\n",
       "    </tr>\n",
       "    <tr>\n",
       "      <th>4</th>\n",
       "      <td>14</td>\n",
       "      <td>26</td>\n",
       "    </tr>\n",
       "  </tbody>\n",
       "</table>\n",
       "</div>"
      ],
      "text/plain": [
       "   Advertising_Expenditure  Sales\n",
       "0                       10     25\n",
       "1                       15     30\n",
       "2                       12     28\n",
       "3                        8     20\n",
       "4                       14     26"
      ]
     },
     "metadata": {},
     "output_type": "display_data"
    },
    {
     "name": "stdout",
     "output_type": "stream",
     "text": [
      "****************************************************************************************************\n"
     ]
    },
    {
     "data": {
      "text/html": [
       "<style type=\"text/css\">\n",
       "#T_6cf56_row0_col0, #T_6cf56_row1_col1 {\n",
       "  background-color: #006837;\n",
       "  color: #f1f1f1;\n",
       "}\n",
       "#T_6cf56_row0_col1, #T_6cf56_row1_col0 {\n",
       "  background-color: #a50026;\n",
       "  color: #f1f1f1;\n",
       "}\n",
       "</style>\n",
       "<table id=\"T_6cf56\">\n",
       "  <thead>\n",
       "    <tr>\n",
       "      <th class=\"blank level0\" >&nbsp;</th>\n",
       "      <th id=\"T_6cf56_level0_col0\" class=\"col_heading level0 col0\" >Advertising_Expenditure</th>\n",
       "      <th id=\"T_6cf56_level0_col1\" class=\"col_heading level0 col1\" >Sales</th>\n",
       "    </tr>\n",
       "  </thead>\n",
       "  <tbody>\n",
       "    <tr>\n",
       "      <th id=\"T_6cf56_level0_row0\" class=\"row_heading level0 row0\" >Advertising_Expenditure</th>\n",
       "      <td id=\"T_6cf56_row0_col0\" class=\"data row0 col0\" >1.000000</td>\n",
       "      <td id=\"T_6cf56_row0_col1\" class=\"data row0 col1\" >0.875751</td>\n",
       "    </tr>\n",
       "    <tr>\n",
       "      <th id=\"T_6cf56_level0_row1\" class=\"row_heading level0 row1\" >Sales</th>\n",
       "      <td id=\"T_6cf56_row1_col0\" class=\"data row1 col0\" >0.875751</td>\n",
       "      <td id=\"T_6cf56_row1_col1\" class=\"data row1 col1\" >1.000000</td>\n",
       "    </tr>\n",
       "  </tbody>\n",
       "</table>\n"
      ],
      "text/plain": [
       "<pandas.io.formats.style.Styler at 0x1fa6dc3aeb0>"
      ]
     },
     "execution_count": 27,
     "metadata": {},
     "output_type": "execute_result"
    }
   ],
   "source": [
    "# ans = 6\n",
    "#  Calculate the correlation coefficient between advertising expenditure and sales.\n",
    "import pandas as pd\n",
    "\n",
    "Advertising_Expenditure = [10, 15, 12, 8, 14]\n",
    "Sales = [25, 30, 28, 20, 26]\n",
    "\n",
    "data_df = {\"Advertising_Expenditure\": Advertising_Expenditure, \"Sales\": Sales}\n",
    "df = pd.DataFrame(data= data_df)\n",
    "\n",
    "display(df)\n",
    "\n",
    "print(\"*\"*100)\n",
    "\n",
    "corr = df.corr()\n",
    "corr.style.background_gradient(cmap='RdYlGn')"
   ]
  },
  {
   "cell_type": "code",
   "execution_count": 28,
   "metadata": {},
   "outputs": [
    {
     "data": {
      "text/plain": [
       "7.953949089757174"
      ]
     },
     "execution_count": 28,
     "metadata": {},
     "output_type": "execute_result"
    }
   ],
   "source": [
    "# ans = 7\n",
    "\n",
    "heights = [160, 170, 165, 155, 175, 180, 170]\n",
    "np.std(heights)"
   ]
  },
  {
   "cell_type": "code",
   "execution_count": 55,
   "metadata": {},
   "outputs": [
    {
     "name": "stdout",
     "output_type": "stream",
     "text": [
      "Slope: -0.4680851063829787\n",
      "Intercept: 8.595744680851062\n",
      "R-value: -0.520573376708331\n",
      "P-value: 0.23095550952297988\n",
      "Standard error: 0.34333860006713723\n"
     ]
    }
   ],
   "source": [
    "# ans =  8\n",
    "#  Perform a linear regression analysis to predict job satisfaction based on employee tenure.\n",
    "from scipy import stats\n",
    "\n",
    "employee_tenure = [2, 3, 5, 4, 6, 2, 4]\n",
    "job_satisfaction = [7, 8, 6, 9, 5, 7, 6]\n",
    "\n",
    "slope, intercept, r_value, p_value, std_err = stats.linregress(employee_tenure, job_satisfaction)\n",
    "\n",
    "print(\"Slope:\", slope)\n",
    "print(\"Intercept:\", intercept)\n",
    "print(\"R-value:\", r_value)\n",
    "print(\"P-value:\", p_value)\n",
    "print(\"Standard error:\", std_err)\n",
    "\n"
   ]
  },
  {
   "cell_type": "code",
   "execution_count": 49,
   "metadata": {},
   "outputs": [
    {
     "name": "stdout",
     "output_type": "stream",
     "text": [
      "0.003949772803445326\n",
      "Accept the null hypothesis\n"
     ]
    }
   ],
   "source": [
    "# ans = 9\n",
    "from scipy.stats import f_oneway\n",
    "\n",
    "Medication_A = [10, 12, 14, 11, 13]\n",
    "Medication_B = [15, 17, 16, 14, 18]\n",
    "#    Perform an analysis of variance (ANOVA) to determine if there is a significant difference in the mean recovery times between the two medications.\n",
    "\n",
    "_, pvalue = f_oneway(Medication_A, Medication_B)\n",
    "\n",
    "print(pvalue)\n",
    "alpha = 0.05\n",
    "if pvalue > alpha:\n",
    "    print(\"Reject null hypothesis\")\n",
    "else:\n",
    "    print(\"Accept the null hypothesis\")"
   ]
  },
  {
   "cell_type": "code",
   "execution_count": 47,
   "metadata": {},
   "outputs": [
    {
     "data": {
      "text/plain": [
       "8.75"
      ]
     },
     "execution_count": 47,
     "metadata": {},
     "output_type": "execute_result"
    }
   ],
   "source": [
    "# ans = 10\n",
    "data = [8, 9, 7, 6, 8, 10, 9, 8, 7, 8]\n",
    "   #  Calculate the 75th percentile of the feedback ratings.\n",
    "\n",
    "np.percentile(data, 75)"
   ]
  },
  {
   "cell_type": "markdown",
   "metadata": {},
   "source": [
    "11. Scenario: A quality control department wants to test the weight consistency of a product. The weights of a sample of products are as follows:\n",
    "    [10.2, 9.8, 10.0, 10.5, 10.3, 10.1]\n",
    "    Perform a hypothesis test to determine if the mean weight differs significantly from 10 grams.\n",
    "\n",
    "12. Scenario: A company wants to analyze the click-through rates of two different website designs. The number of clicks for each design is as follows:\n",
    "    Design A: [100, 120, 110, 90, 95]\n",
    "    Design B: [80, 85, 90, 95, 100]\n",
    "    Perform a chi-square test to determine if there is a significant difference in the click-through rates between the two designs.\n",
    "\n",
    "13. Scenario: A survey is conducted to measure customer satisfaction with a product on a scale of 1 to 10. The data collected is as follows:\n",
    "    [7, 9, 6, 8, 10, 7, 8, 9, 7, 8]\n",
    "    Calculate the 95% confidence interval for the population mean satisfaction score.\n",
    "\n",
    "14. Scenario: A company wants to analyze the effect of temperature on product performance. The data collected is as follows:\n",
    "    Temperature (in degrees Celsius): [20, 22, 23, 19, 21]\n",
    "    Performance (on a scale of 1 to 10): [8, 7, 9, 6, 8]\n",
    "    Perform a simple linear regression to predict performance based on temperature.\n",
    "\n",
    "15. Scenario: A study is conducted to compare the preferences of two groups of participants. The preferences are measured on a Likert scale from 1 to 5. The data collected is as follows:\n",
    "    Group A: [4, 3, 5, 2, 4]\n",
    "    Group B: [3, 2, 4, 3, 3]\n",
    "    Perform a Mann-Whitney U test to determine if there is a significant difference in the median preferences between the two groups.\n",
    "\n",
    "16. Scenario: A company wants to analyze the distribution of customer ages. The data collected is as follows:\n",
    "    [25, 30, 35, 40, 45, 50, 55, 60, 65, 70]\n",
    "    Calculate the interquartile range (IQR) of the ages.\n",
    "\n",
    "17. Scenario: A study is conducted to compare the performance of three different machine learning algorithms. The accuracy scores for each algorithm are as follows:\n",
    "    Algorithm A: [0.85, 0.80, 0.82, 0.87, 0.83]\n",
    "    Algorithm B: [0.78, 0.82, 0.84, 0.80, 0.79]\n",
    "    Algorithm C: [0.90, 0.88, 0.89, 0.86, 0.87]\n",
    "    Perform a Kruskal-Wallis test to determine if there is a significant difference in the median accuracy scores between the algorithms.\n",
    "\n",
    "18. Scenario: A company wants to analyze the effect of price on sales. The data collected is as follows:\n",
    "    Price (in dollars): [10, 15, 12, 8, 14]\n",
    "    Sales: [100, 80, 90, 110, 95]\n",
    "    Perform a simple linear regression to predict\n",
    "\n",
    " sales based on price.\n",
    "\n",
    "19. Scenario: A survey is conducted to measure the satisfaction levels of customers with a new product. The data collected is as follows:\n",
    "    [7, 8, 9, 6, 8, 7, 9, 7, 8, 7]\n",
    "    Calculate the standard error of the mean satisfaction score.\n",
    "\n",
    "20. Scenario: A company wants to analyze the relationship between advertising expenditure and sales. The data collected is as follows:\n",
    "    Advertising Expenditure (in thousands): [10, 15, 12, 8, 14]\n",
    "    Sales (in thousands): [25, 30, 28, 20, 26]\n",
    "    Perform a multiple regression analysis to predict sales based on advertising expenditure.\n",
    "\n"
   ]
  },
  {
   "cell_type": "code",
   "execution_count": 52,
   "metadata": {},
   "outputs": [
    {
     "name": "stdout",
     "output_type": "stream",
     "text": [
      "The mean weight does not differ significantly from 10 grams.\n"
     ]
    }
   ],
   "source": [
    "# ans = 11\n",
    "\n",
    "import scipy.stats as stats\n",
    "\n",
    "weights = [10.2, 9.8, 10.0, 10.5, 10.3, 10.1]\n",
    "\n",
    "t_statistic, p_value = stats.ttest_1samp(weights, 10)\n",
    "\n",
    "if p_value < 0.05:\n",
    "    print(\"The mean weight differs significantly from 10 grams.\")\n",
    "else:\n",
    "    print(\"The mean weight does not differ significantly from 10 grams.\")\n",
    "\n"
   ]
  },
  {
   "cell_type": "code",
   "execution_count": 51,
   "metadata": {},
   "outputs": [
    {
     "name": "stdout",
     "output_type": "stream",
     "text": [
      "0.19103526314060293\n",
      "Accept null hypothesis\n"
     ]
    }
   ],
   "source": [
    "# ans = 12\n",
    "from scipy.stats import chi2_contingency\n",
    "\n",
    "Designs = [[100, 120, 110, 90, 95], [80, 85, 90, 95, 100]]\n",
    " \n",
    "\n",
    "stat, p, dof, expected = chi2_contingency(Designs)\n",
    " \n",
    "# interpret p-value\n",
    "alpha = 0.05\n",
    "print(p)\n",
    "if p <= alpha:\n",
    "    print('Reject null hypothesis')\n",
    "else:\n",
    "    print('Accept null hypothesis')\n"
   ]
  },
  {
   "cell_type": "code",
   "execution_count": 53,
   "metadata": {},
   "outputs": [
    {
     "name": "stdout",
     "output_type": "stream",
     "text": [
      "The mean weight does not differ significantly from 10 grams.\n"
     ]
    }
   ],
   "source": [
    "# ans = 13\n",
    "\n",
    "import scipy.stats as stats\n",
    "\n",
    "weights = [10.2, 9.8, 10.0, 10.5, 10.3, 10.1]\n",
    "\n",
    "t_statistic, p_value = stats.ttest_1samp(weights, 10)\n",
    "\n",
    "if p_value < 0.05:\n",
    "    print(\"The mean weight differs significantly from 10 grams.\")\n",
    "else:\n",
    "    print(\"The mean weight does not differ significantly from 10 grams.\")\n",
    "\n"
   ]
  },
  {
   "cell_type": "code",
   "execution_count": 54,
   "metadata": {},
   "outputs": [
    {
     "name": "stdout",
     "output_type": "stream",
     "text": [
      "Regression coefficients: [-2.9  0.5]\n",
      "Predicted performance: [7.1 8.1 8.6 6.6 7.6]\n"
     ]
    }
   ],
   "source": [
    "#ans = 14\n",
    "\n",
    "import statsmodels.api as sm\n",
    "\n",
    "temperature = [20, 22, 23, 19, 21]\n",
    "performance = [8, 7, 9, 6, 8]\n",
    "\n",
    "temperature = sm.add_constant(temperature)\n",
    "\n",
    "model = sm.OLS(performance, temperature).fit()\n",
    "\n",
    "predictions = model.predict(temperature)\n",
    "\n",
    "print(\"Regression coefficients:\", model.params)\n",
    "print(\"Predicted performance:\", predictions)\n"
   ]
  },
  {
   "cell_type": "code",
   "execution_count": 57,
   "metadata": {},
   "outputs": [
    {
     "name": "stdout",
     "output_type": "stream",
     "text": [
      "there is no diffrences in median between two gropus\n"
     ]
    }
   ],
   "source": [
    "# ans = 15\n",
    "\n",
    "import scipy.stats as stats\n",
    "\n",
    "Group_A = [4, 3, 5, 2, 4]\n",
    "Group_B = [3, 2, 4, 3, 3]\n",
    "\n",
    "statistics, pvalue = stats.mannwhitneyu(Group_A, Group_B, alternative=\"two-sided\")\n",
    "\n",
    "if pvalue < 0.05:\n",
    "    print(\"there is diffrences in median between two gropus\")\n",
    "else:\n",
    "    print(\"there is no diffrences in median between two gropus\")\n"
   ]
  },
  {
   "cell_type": "code",
   "execution_count": 58,
   "metadata": {},
   "outputs": [
    {
     "name": "stdout",
     "output_type": "stream",
     "text": [
      "22.5\n"
     ]
    }
   ],
   "source": [
    "# ans = 16\n",
    "\n",
    "ages = [25, 30, 35, 40, 45, 50, 55, 60, 65, 70]\n",
    "\n",
    "iqr = np.percentile(ages, 75) - np.percentile(ages, 25)\n",
    "\n",
    "print(iqr)\n"
   ]
  },
  {
   "cell_type": "code",
   "execution_count": 59,
   "metadata": {},
   "outputs": [
    {
     "name": "stdout",
     "output_type": "stream",
     "text": [
      "0.007840333026249539\n",
      "there is a significant difference in the median accuracy scores between the algorithms\n"
     ]
    }
   ],
   "source": [
    "# ans = 17\n",
    "\n",
    "from scipy.stats import kruskal\n",
    "\n",
    "Algorithm_A = [0.85, 0.80, 0.82, 0.87, 0.83]\n",
    "Algorithm_B = [0.78, 0.82, 0.84, 0.80, 0.79]\n",
    "Algorithm_C = [0.90, 0.88, 0.89, 0.86, 0.87]\n",
    "\n",
    "stat, p = kruskal(Algorithm_A, Algorithm_B, Algorithm_C)\n",
    "print(p)\n",
    "\n",
    "alpha = 0.05\n",
    "if p > alpha:\n",
    " print('there is no significant difference in the median accuracy scores between the algorithms')\n",
    "else:\n",
    " print('there is a significant difference in the median accuracy scores between the algorithms')\n"
   ]
  },
  {
   "cell_type": "code",
   "execution_count": 60,
   "metadata": {},
   "outputs": [
    {
     "name": "stdout",
     "output_type": "stream",
     "text": [
      "Regression coefficients: [12.20121951  1.15243902]\n",
      "Predicted sales: [23.72560976 29.48780488 26.0304878  21.42073171 28.33536585]\n"
     ]
    }
   ],
   "source": [
    "# ans = 18\n",
    "\n",
    "import numpy as np\n",
    "import statsmodels.api as sm\n",
    "\n",
    "advertising_expenditure = [10, 15, 12, 8, 14]\n",
    "sales = [25, 30, 28, 20, 26]\n",
    "\n",
    "advertising_expenditure = sm.add_constant(advertising_expenditure)\n",
    "\n",
    "model = sm.OLS(sales, advertising_expenditure).fit()\n",
    "\n",
    "predictions = model.predict(advertising_expenditure)\n",
    "\n",
    "print(\"Regression coefficients:\", model.params)\n",
    "print(\"Predicted sales:\", predictions)\n"
   ]
  },
  {
   "cell_type": "code",
   "execution_count": 62,
   "metadata": {},
   "outputs": [
    {
     "data": {
      "text/plain": [
       "0.30550504633038933"
      ]
     },
     "execution_count": 62,
     "metadata": {},
     "output_type": "execute_result"
    }
   ],
   "source": [
    "# ans = 19\n",
    "from scipy.stats import sem\n",
    "\n",
    "level = [7, 8, 9, 6, 8, 7, 9, 7, 8, 7]\n",
    "\n",
    "sem(level)  #standard error of mean satisfaction score\n"
   ]
  }
 ],
 "metadata": {
  "kernelspec": {
   "display_name": "base",
   "language": "python",
   "name": "python3"
  },
  "language_info": {
   "codemirror_mode": {
    "name": "ipython",
    "version": 3
   },
   "file_extension": ".py",
   "mimetype": "text/x-python",
   "name": "python",
   "nbconvert_exporter": "python",
   "pygments_lexer": "ipython3",
   "version": "3.9.13"
  },
  "orig_nbformat": 4
 },
 "nbformat": 4,
 "nbformat_minor": 2
}
