{
 "cells": [
  {
   "attachments": {},
   "cell_type": "markdown",
   "metadata": {},
   "source": [
    "1. Write a Python program to reverse a string without using any built-in string reversal functions.\n",
    "2. Implement a function to check if a given string is a palindrome.\n",
    "3. Write a program to find the largest element in a given list.\n",
    "4. Implement a function to count the occurrence of each element in a list.\n",
    "5. Write a Python program to find the second largest number in a list.\n",
    "6. Implement a function to remove duplicate elements from a list.\n",
    "7. Write a program to calculate the factorial of a given number.\n",
    "8. Implement a function to check if a given number is prime.\n",
    "9. Write a Python program to sort a list of integers in ascending order.\n",
    "10. Implement a function to find the sum of all numbers in a list.\n"
   ]
  },
  {
   "cell_type": "code",
   "execution_count": 9,
   "metadata": {},
   "outputs": [
    {
     "name": "stdout",
     "output_type": "stream",
     "text": [
      "tneduts ecneics atad a ma i olleh\n"
     ]
    }
   ],
   "source": [
    "# ans - 1 \n",
    "\n",
    "def reverse_string(s :str):\n",
    "    # return s[::-1]\n",
    "    st = \"\"\n",
    "    for i in s :\n",
    "        st = i + st\n",
    "    return st\n",
    "\n",
    "string = \"hello i am a data science student\"\n",
    "\n",
    "print(reverse_string(string))\n"
   ]
  },
  {
   "cell_type": "code",
   "execution_count": 30,
   "metadata": {},
   "outputs": [
    {
     "data": {
      "text/plain": [
       "True"
      ]
     },
     "execution_count": 30,
     "metadata": {},
     "output_type": "execute_result"
    }
   ],
   "source": [
    "# ans - 2\n",
    "\n",
    "def palindrome(s :str):\n",
    "    if len(s) == 0:\n",
    "        return True\n",
    "    \n",
    "    else:\n",
    "        s = s.lower()\n",
    "        s1 = s[::-1]\n",
    "        # print(s, s1)\n",
    "        if s1 == s:\n",
    "            return True\n",
    "        else:\n",
    "            return False\n",
    "  \n",
    "\n",
    "st = \"Tacocat\"   \n",
    "palindrome(st)"
   ]
  },
  {
   "cell_type": "code",
   "execution_count": 33,
   "metadata": {},
   "outputs": [
    {
     "data": {
      "text/plain": [
       "23"
      ]
     },
     "execution_count": 33,
     "metadata": {},
     "output_type": "execute_result"
    }
   ],
   "source": [
    "# ans - 3\n",
    "\n",
    "def largest(lst : list):\n",
    "    if len(lst) == 0:\n",
    "        return lst\n",
    "    else:\n",
    "        maximum = -999999999\n",
    "        for i in lst:\n",
    "            if maximum < i:\n",
    "                maximum = i\n",
    "        \n",
    "        return maximum\n",
    "\n",
    "l = [23,-1,3,-5,0,-2,4]   \n",
    "largest(l)\n"
   ]
  },
  {
   "cell_type": "code",
   "execution_count": 35,
   "metadata": {},
   "outputs": [
    {
     "data": {
      "text/plain": [
       "{1: 3, 2: 1, 3: 2, 4: 2, 6: 2, 0: 1}"
      ]
     },
     "execution_count": 35,
     "metadata": {},
     "output_type": "execute_result"
    }
   ],
   "source": [
    "# ans - 4\n",
    "\n",
    "def occurence_of_list(lst: list):\n",
    "    record = dict()\n",
    "\n",
    "    for i in lst:\n",
    "        if i not in record:\n",
    "            record[i] = 1\n",
    "        else:\n",
    "            record[i] = record[i] + 1\n",
    "\n",
    "    return record\n",
    "\n",
    "l = [1,1,2,3,4,3,4,6,1,6,0]\n",
    "occurence_of_list(l)"
   ]
  },
  {
   "cell_type": "code",
   "execution_count": 40,
   "metadata": {},
   "outputs": [
    {
     "data": {
      "text/plain": [
       "4"
      ]
     },
     "execution_count": 40,
     "metadata": {},
     "output_type": "execute_result"
    }
   ],
   "source": [
    "# ans - 5\n",
    "\n",
    "import numpy as np\n",
    "def largest_second(lst:list):\n",
    "    lst = list(set(lst))\n",
    "\n",
    "    # np_arr = np.array(lst)\n",
    "    # sorted_indices = np.argsort(np_arr)\n",
    "\n",
    "    # second_largest_indx = sorted_indices[-2]\n",
    "\n",
    "    # return np_arr[second_largest_indx]\n",
    "\n",
    "    lst = sorted(lst)\n",
    "\n",
    "    return f\"second largest element = {lst[-2]}\"\n",
    "\n",
    "l = [1,1,2,3,4,3,4,6,1,6,0]\n",
    "largest_second(l)"
   ]
  },
  {
   "cell_type": "code",
   "execution_count": 52,
   "metadata": {},
   "outputs": [
    {
     "data": {
      "text/plain": [
       "3"
      ]
     },
     "execution_count": 52,
     "metadata": {},
     "output_type": "execute_result"
    }
   ],
   "source": [
    "# Kth largest element\n",
    "import heapq\n",
    "def kth_largest(lst:list, k:int):\n",
    "    # lst = list(sorted(set(lst), reverse=True))\n",
    "\n",
    "    # return lst, lst[k-1]\n",
    "\n",
    "    lst = list(set(lst))\n",
    "    heap=[]\n",
    "    for num in lst:\n",
    "        heapq.heappush(heap, num)\n",
    "        # print(heap)\n",
    "        if len(heap) > k:\n",
    "            heapq.heappop(heap)\n",
    "\n",
    "    return heap[0]\n",
    "            \n",
    "\n",
    "l = [1,1,2,3,4,3,4,5,6,1,6,0]\n",
    "kth_largest(l,4)"
   ]
  },
  {
   "cell_type": "code",
   "execution_count": 1,
   "metadata": {},
   "outputs": [
    {
     "data": {
      "text/plain": [
       "[0, 1, 2, 3, 4, 5, 6]"
      ]
     },
     "execution_count": 1,
     "metadata": {},
     "output_type": "execute_result"
    }
   ],
   "source": [
    "# ans - 6\n",
    "\n",
    "def remove_dulplicates(lst:list):\n",
    "    return list(set(lst))\n",
    "\n",
    "l = [1,1,2,3,4,3,4,5,6,1,6,0]\n",
    "remove_dulplicates(l)"
   ]
  },
  {
   "cell_type": "code",
   "execution_count": 4,
   "metadata": {},
   "outputs": [
    {
     "data": {
      "text/plain": [
       "120"
      ]
     },
     "execution_count": 4,
     "metadata": {},
     "output_type": "execute_result"
    }
   ],
   "source": [
    "# ans - 7\n",
    "\n",
    "def factorial(n:int):\n",
    "    if n == 0:\n",
    "        return 1\n",
    "    else:\n",
    "        return  n * factorial(n-1) \n",
    "        # return 2\n",
    "    \n",
    "factorial(5)"
   ]
  },
  {
   "cell_type": "code",
   "execution_count": 6,
   "metadata": {},
   "outputs": [
    {
     "name": "stdout",
     "output_type": "stream",
     "text": [
      "Not Prime Number\n",
      "Not Prime Number\n",
      "Prime Number\n",
      "Prime Number\n",
      "Not Prime Number\n",
      "Prime Number\n"
     ]
    }
   ],
   "source": [
    "# ans - 8\n",
    "\n",
    "def prime(n:int):\n",
    "    if n <= 0:\n",
    "        return \"Not Prime Number\"\n",
    "    \n",
    "    elif n == 2:\n",
    "        return \"Prime Number\"\n",
    "    \n",
    "    else:\n",
    "        if n % 2 == 0:\n",
    "            return \"Not Prime Number\"\n",
    "        \n",
    "        else:\n",
    "            for i in range(3, n//2, 2):\n",
    "                if n % i == 0:\n",
    "                    return \"Not Prime Number\"\n",
    "            \n",
    "            return \"Prime Number\"\n",
    "    \n",
    "print(prime(0))\n",
    "print(prime(-3))\n",
    "print(prime(2))\n",
    "print(prime(3))\n",
    "print(prime(27))\n",
    "print(prime(31))"
   ]
  },
  {
   "cell_type": "code",
   "execution_count": null,
   "metadata": {},
   "outputs": [],
   "source": [
    "# ans - 9\n",
    "\n",
    "\n",
    "def merge(arr, left, mid, right):\n",
    "    # no. of elements in left subarray\n",
    "    n1 = mid - left + 1\n",
    "    # no. of elements in right subarray\n",
    "    n2 = right - mid\n",
    "\n",
    "    # left and right subarray of size n1, n2\n",
    "    L = [0] * n1\n",
    "    R = [0] * n2\n",
    "\n",
    "    # copy the elements of from original array to left amd right subarray\n",
    "    for i in range(n1):\n",
    "        L[i] = arr[left + i]\n",
    "  \n",
    "    for i in range(n2):\n",
    "        R[i] = arr[mid + 1 + i]\n",
    "\n",
    "    \n",
    "\n",
    "    # poinetrs to point left and right subarray \n",
    "\n",
    "    p,q,k=0,0,1\n",
    "\n",
    "    # comparison between left and right subarray\n",
    "\n",
    "    while p < n1 and q < n2:\n",
    "        if L[p] <= R[q]:\n",
    "            arr[k] = L[p]\n",
    "            p += 1\n",
    "        else:\n",
    "            arr[k] = R[q]\n",
    "            q += 1\n",
    "        \n",
    "        k += 1\n",
    "\n",
    "    # copy the remaining left subarray\n",
    "\n",
    "    while p < n1:\n",
    "        arr[k] = L[p]\n",
    "        p += 1\n",
    "        k += 1\n",
    "\n",
    "    # copy the remaining right subarray\n",
    "\n",
    "    while q < n2:\n",
    "        arr[k] = R[q]\n",
    "        q += 1\n",
    "        k += 1\n",
    "\n",
    "   \n",
    "\n",
    "\n",
    "def mergeSort(arr, left, right):\n",
    "    if left < right:\n",
    "        mid = left + (right - left)//2\n",
    "\n",
    "        mergeSort(arr, left, mid)\n",
    "        mergeSort(arr, mid +1, right)\n",
    "        merge(arr, left, mid, right) \n",
    "\n",
    "\n",
    "\n",
    "\n",
    "### Driver code\n",
    "lst = [23,12,24,15,10,5,2,1,7]\n",
    "i = 0\n",
    "j = len(lst) - 1\n",
    "res = mergeSort(lst,i, j)\n",
    "print(res)\n",
    "    \n"
   ]
  },
  {
   "cell_type": "code",
   "execution_count": 19,
   "metadata": {},
   "outputs": [
    {
     "data": {
      "text/plain": [
       "99"
      ]
     },
     "execution_count": 19,
     "metadata": {},
     "output_type": "execute_result"
    }
   ],
   "source": [
    "# ans - 10\n",
    "\n",
    "def sum_of_list(lst:list):\n",
    "    sum = 0\n",
    "    for num in lst:\n",
    "        sum += num\n",
    "\n",
    "    return sum\n",
    "\n",
    "lst = [23,12,24,15,10,5,2,1,7]\n",
    "sum_of_list(lst)\n"
   ]
  },
  {
   "attachments": {},
   "cell_type": "markdown",
   "metadata": {},
   "source": [
    "11. Write a program to find the common elements between two lists.\n",
    "12. Implement a function to check if a given string is an anagram of another string.\n",
    "13. Write a Python program to generate all permutations of a given string.\n",
    "14. Implement a function to calculate the Fibonacci sequence up to a given number of terms.\n",
    "15. Write a program to find the median of a list of numbers.\n",
    "16. Implement a function to check if a given list is sorted in non-decreasing order.\n",
    "17. Write a Python program to find the intersection of two lists.\n",
    "18. Implement a function to find the maximum subarray sum in a given list.\n",
    "19. Write a program to remove all vowels from a given string.\n",
    "20. Implement a function to reverse the order of words in a given sentence."
   ]
  },
  {
   "cell_type": "code",
   "execution_count": 24,
   "metadata": {},
   "outputs": [
    {
     "data": {
      "text/plain": [
       "[1, 2, 3, 4, 5]"
      ]
     },
     "execution_count": 24,
     "metadata": {},
     "output_type": "execute_result"
    }
   ],
   "source": [
    "# ans = 11\n",
    "\n",
    "def intersection_of_list(l1:list,l2:list):\n",
    "    if type(l1) == list and type(l2) == list:\n",
    "        res = []\n",
    "        if len(l1)>len(l2):\n",
    "            n2 = len(l2)\n",
    "            for i in range(n2):\n",
    "                if l2[i] in l1:\n",
    "                    res.append(l2[i])\n",
    "        else:\n",
    "            n1 = len(l1)\n",
    "            for i in range(n1):\n",
    "                if l1[i] in l2:\n",
    "                    res.append(l1[i])\n",
    "\n",
    "        \n",
    "        return res\n",
    "    \n",
    "    else:\n",
    "        print(\"please provide list !!\")\n",
    "\n",
    "intersection_of_list([1,2,3,4,5],[1,2,3,4,5,6,7,8,9])\n"
   ]
  },
  {
   "cell_type": "code",
   "execution_count": 38,
   "metadata": {},
   "outputs": [
    {
     "name": "stdout",
     "output_type": "stream",
     "text": [
      "Strings are an anagram\n"
     ]
    },
    {
     "data": {
      "text/plain": [
       "'Strings are not an anagram'"
      ]
     },
     "execution_count": 38,
     "metadata": {},
     "output_type": "execute_result"
    }
   ],
   "source": [
    "# ans = 12  anagram - both string must have same characters in any order\n",
    "\n",
    "def string_anagram(s1: str, s2:str):\n",
    "    if type(s1) == str and type(s2) == str:\n",
    "        if len(s1) == len(s2):\n",
    "            l1 = list(map(str,s1))\n",
    "            l2 = list(map(str,s2))\n",
    "            l1.sort()\n",
    "            l2.sort()\n",
    "            # print(l1,l2)\n",
    "            \n",
    "            s3 = \"\".join(l1)\n",
    "            s4 = \"\".join(l2)\n",
    "\n",
    "            if s3 == s4:\n",
    "                return \"Strings are an anagram\"\n",
    "            \n",
    "            else:\n",
    "                return \"Strings are not an anagram\"\n",
    "            # print(s3,s4)\n",
    "        else:\n",
    "            return \"Strings are not an anagram\"\n",
    "\n",
    "\n",
    "print(string_anagram(\"silent\",\"listen\"))\n",
    "string_anagram(\"abcdd\",\"abbcd\")\n"
   ]
  },
  {
   "cell_type": "code",
   "execution_count": 45,
   "metadata": {},
   "outputs": [
    {
     "name": "stdout",
     "output_type": "stream",
     "text": [
      "ABCD\n",
      "ABDC\n",
      "ACBD\n",
      "ACDB\n",
      "ADCB\n",
      "ADBC\n",
      "BACD\n",
      "BADC\n",
      "BCAD\n",
      "BCDA\n",
      "BDCA\n",
      "BDAC\n",
      "CBAD\n",
      "CBDA\n",
      "CABD\n",
      "CADB\n",
      "CDAB\n",
      "CDBA\n",
      "DBCA\n",
      "DBAC\n",
      "DCBA\n",
      "DCAB\n",
      "DACB\n",
      "DABC\n"
     ]
    }
   ],
   "source": [
    "# ans - 13\n",
    "\n",
    "def toString(l):\n",
    "    return \"\".join(l)\n",
    "\n",
    "\n",
    "def swap(a, b):\n",
    "    l[a], l[b] = l[b], l[a]\n",
    "    # a,b = b,a\n",
    "\n",
    "def string_permutation(l, idx, n):\n",
    "    if idx == n:\n",
    "        print(toString(l))\n",
    "    else:\n",
    "        for i in range(idx, n+1):\n",
    "            swap(idx, i)\n",
    "            string_permutation(l,idx+1,n)\n",
    "            swap(idx,i)\n",
    "        \n",
    "    \n",
    "\n",
    "# Driver code\n",
    "string = \"ABCD\"\n",
    "idx = 0\n",
    "n = len(string) - 1\n",
    "l = list(string)\n",
    "string_permutation(l,idx,n)\n",
    "\n",
    "# tc = O(n*n!)\n",
    "\n"
   ]
  },
  {
   "cell_type": "code",
   "execution_count": 56,
   "metadata": {},
   "outputs": [
    {
     "data": {
      "text/plain": [
       "[0, 1, 1, 2, 3, 5, 8, 13, 21, 34, 55, 89, 144, 233, 377]"
      ]
     },
     "execution_count": 56,
     "metadata": {},
     "output_type": "execute_result"
    }
   ],
   "source": [
    "# ans - 14\n",
    "\n",
    "def fibonacci(n):\n",
    "    if n == 1:\n",
    "        return [0]\n",
    "    else:\n",
    "        res = []\n",
    "        for i in range(n):\n",
    "            if i == 0:\n",
    "                t1 = 0\n",
    "                res.append(0)\n",
    "            elif i == 1:\n",
    "                t2 = 1\n",
    "                res.append(1)\n",
    "            else:  \n",
    "                term = t1 + t2\n",
    "                res.append(term)\n",
    "                t1 = t2\n",
    "                t2 = term\n",
    "\n",
    "        return res\n",
    "\n",
    "\n",
    "# Driver code\n",
    "\n",
    "terms = 15\n",
    "\n",
    "fibonacci(terms)\n",
    "    \n",
    "    "
   ]
  },
  {
   "cell_type": "code",
   "execution_count": 57,
   "metadata": {},
   "outputs": [
    {
     "data": {
      "text/plain": [
       "13"
      ]
     },
     "execution_count": 57,
     "metadata": {},
     "output_type": "execute_result"
    }
   ],
   "source": [
    "# ans - 15\n",
    "\n",
    "def median(l):\n",
    "    n = len(l)\n",
    "    if n % 2 != 0:\n",
    "        return l[(n+1)//2]\n",
    "    else:\n",
    "        return l[n//2] + l[(n//2)+1]\n",
    "    \n",
    "\n",
    "# Drivercode \n",
    "median([0,1,1,2,3,5,8,13,21,34,55,89,144])"
   ]
  },
  {
   "cell_type": "code",
   "execution_count": 62,
   "metadata": {},
   "outputs": [
    {
     "data": {
      "text/plain": [
       "False"
      ]
     },
     "execution_count": 62,
     "metadata": {},
     "output_type": "execute_result"
    }
   ],
   "source": [
    "# ans- 16\n",
    "def check_sorted(lst):\n",
    "    if len(lst) == 1 or len(lst) == 0:\n",
    "        return True\n",
    "    else:\n",
    "        for i in range(1, len(lst)):\n",
    "            if lst[i -1] > lst[i]:      ## if prev elememt is greater than current element -- False condition\n",
    "                return False\n",
    "        else:\n",
    "            return True\n",
    "\n",
    "\n",
    "# Drivercode\n",
    "\n",
    "check_sorted([])\n",
    "\n",
    "check_sorted([45,23,56])    \n",
    "\n",
    "# tc = O(n)\n",
    "# scc = O(1)"
   ]
  },
  {
   "cell_type": "code",
   "execution_count": 63,
   "metadata": {},
   "outputs": [
    {
     "data": {
      "text/plain": [
       "[1, 2, 3, 4, 5]"
      ]
     },
     "execution_count": 63,
     "metadata": {},
     "output_type": "execute_result"
    }
   ],
   "source": [
    "# ans - 17\n",
    "def intersection_of_list(l1:list,l2:list):\n",
    "    if type(l1) == list and type(l2) == list:\n",
    "        res = []\n",
    "        if len(l1)>len(l2):\n",
    "            n2 = len(l2)\n",
    "            for i in range(n2):\n",
    "                if l2[i] in l1:\n",
    "                    res.append(l2[i])\n",
    "        else:\n",
    "            n1 = len(l1)\n",
    "            for i in range(n1):\n",
    "                if l1[i] in l2:\n",
    "                    res.append(l1[i])\n",
    "\n",
    "        \n",
    "        return res\n",
    "    \n",
    "    else:\n",
    "        print(\"please provide list !!\")\n",
    "\n",
    "intersection_of_list([1,2,3,4,5],[1,2,3,4,5,6,7,8,9])"
   ]
  },
  {
   "cell_type": "code",
   "execution_count": 65,
   "metadata": {},
   "outputs": [
    {
     "data": {
      "text/plain": [
       "7"
      ]
     },
     "execution_count": 65,
     "metadata": {},
     "output_type": "execute_result"
    }
   ],
   "source": [
    "# ans - 18\n",
    "\n",
    "# Algorithm\n",
    "\n",
    "# Initialize:\n",
    "#     max_so_far = INT_MIN\n",
    "#     max_ending_here = 0\n",
    "\n",
    "# Loop for each element of the array\n",
    "\n",
    "#   (a) max_ending_here = max_ending_here + a[i]\n",
    "#   (b) if(max_so_far < max_ending_here)\n",
    "#             max_so_far = max_ending_here\n",
    "#   (c) if(max_ending_here < 0)\n",
    "#             max_ending_here = 0\n",
    "# return max_so_far\n",
    "from sys import maxsize\n",
    "\n",
    "def max_subarray_sum(lst , n):\n",
    "    max_so_far = -maxsize - 1\n",
    "    max_ending_here = 0\n",
    "\n",
    "    for i in range(n):\n",
    "        max_ending_here += lst[i]\n",
    "        if max_so_far < max_ending_here:\n",
    "            max_so_far = max_ending_here\n",
    "        \n",
    "        if max_ending_here < 0:\n",
    "            max_ending_here = 0\n",
    "\n",
    "    return max_so_far\n",
    "\n",
    "# Drivercode\n",
    "a = [-2, -3, 4, -1, -2, 1, 5, -3]\n",
    "max_subarray_sum(a, len(a))"
   ]
  },
  {
   "cell_type": "code",
   "execution_count": 66,
   "metadata": {},
   "outputs": [
    {
     "name": "stdout",
     "output_type": "stream",
     "text": [
      "Maximum contiguous sum is 7\n",
      "Starting Index 2\n",
      "Ending Index 6\n"
     ]
    }
   ],
   "source": [
    "# Initialize the variables s, start, and end with 0 and max_so_far = INT_MIN and max_ending_here = 0\n",
    "# Run a for loop from 0 to N-1 and for each index i: \n",
    "# Add the arr[i] to max_ending_here.\n",
    "# If max_so_far is less than max_ending_here then update max_so_far to max_ending_here and update start to s and end to i .\n",
    "# If max_ending_here < 0 then update max_ending_here = 0 and s with i+1.\n",
    "# Print values from index start to end.\n",
    "\n",
    "\n",
    "def max_subarray_sum1(arr, n):\n",
    "    max_so_far = -maxsize - 1\n",
    "    max_ending_here = 0\n",
    "    start = 0\n",
    "    end = 0\n",
    "    s = 0\n",
    " \n",
    "    for i in range(0, n):\n",
    " \n",
    "        max_ending_here += a[i]\n",
    " \n",
    "        if max_so_far < max_ending_here:\n",
    "            max_so_far = max_ending_here\n",
    "            start = s\n",
    "            end = i\n",
    " \n",
    "        if max_ending_here < 0:\n",
    "            max_ending_here = 0\n",
    "            s = i+1\n",
    " \n",
    "    print(\"Maximum contiguous sum is %d\" % (max_so_far))\n",
    "    print(\"Starting Index %d\" % (start))\n",
    "    print(\"Ending Index %d\" % (end))\n",
    " \n",
    " \n",
    "# Driver program to test maxSubArraySum\n",
    "a = [-2, -3, 4, -1, -2, 1, 5, -3]\n",
    "max_subarray_sum1(a, len(a))\n"
   ]
  },
  {
   "cell_type": "code",
   "execution_count": 67,
   "metadata": {},
   "outputs": [
    {
     "data": {
      "text/plain": [
       "''"
      ]
     },
     "execution_count": 67,
     "metadata": {},
     "output_type": "execute_result"
    }
   ],
   "source": [
    "# ans - 19\n",
    "\n",
    "def remove_vowels(s):\n",
    "    if len(s) == 0:\n",
    "        return s\n",
    "    else:\n",
    "        vowels = ['a','e','i','o','u']\n",
    "        s1 = \"\"\n",
    "        for i in s:\n",
    "            if i not in vowels:\n",
    "                s1 += i\n",
    "        return s1\n",
    "    \n",
    "# Drivercode\n",
    "\n",
    "st = \"aeiou\"\n",
    "remove_vowels(st)"
   ]
  },
  {
   "cell_type": "code",
   "execution_count": 74,
   "metadata": {},
   "outputs": [
    {
     "data": {
      "text/plain": [
       "'sentence given a in words of order the reverse to function a Implement'"
      ]
     },
     "execution_count": 74,
     "metadata": {},
     "output_type": "execute_result"
    }
   ],
   "source": [
    "# ans - 20\n",
    "\n",
    "def reverse_order_of_words(sentence):\n",
    "    words = list(sentence.split(\" \"))\n",
    "    # print(words)\n",
    "    rev = \"\"\n",
    "    # for i in range(len(words)- 1, -1, -1):\n",
    "    #     # rev += words[i] + \" \"\n",
    "        \n",
    "    rev = \" \".join(words[::-1])\n",
    "    \n",
    "    return rev\n",
    "\n",
    "# Drivercode\n",
    "\n",
    "sentence = \"Implement a function to reverse the order of words in a given sentence\"\n",
    "reverse_order_of_words(sentence)"
   ]
  },
  {
   "attachments": {},
   "cell_type": "markdown",
   "metadata": {},
   "source": [
    "21. Write a Python program to check if two strings are anagrams of each other.\n",
    "22. Implement a function to find the first non-repeating character in a string.\n",
    "23. Write a program to find the prime factors of a given number.\n",
    "24. Implement a function to check if a given number is a power of two.\n",
    "25. Write a Python program to merge two sorted lists into a single sorted list.\n",
    "26. Implement a function to find the mode of a list of numbers.\n",
    "27. Write a program to find the greatest common divisor (GCD) of two numbers.\n",
    "28. Implement a function to calculate the square root of a given number.\n",
    "29. Write a Python program to check if a given string is a valid palindrome ignoring non-alphanumeric characters.\n",
    "30. Implement a function to find the minimum element in a rotated sorted list."
   ]
  },
  {
   "cell_type": "code",
   "execution_count": 76,
   "metadata": {},
   "outputs": [
    {
     "name": "stdout",
     "output_type": "stream",
     "text": [
      "Strings are an anagram\n",
      "Strings are not an anagram\n"
     ]
    }
   ],
   "source": [
    "# ans - 21\n",
    "\n",
    "def string_anagram(s1: str, s2:str):\n",
    "    if type(s1) == str and type(s2) == str:\n",
    "        if len(s1) == len(s2):\n",
    "            l1 = list(map(str,s1))\n",
    "            l2 = list(map(str,s2))\n",
    "            l1.sort()\n",
    "            l2.sort()\n",
    "            # print(l1,l2)\n",
    "            \n",
    "            s3 = \"\".join(l1)\n",
    "            s4 = \"\".join(l2)\n",
    "\n",
    "            if s3 == s4:\n",
    "                return \"Strings are an anagram\"\n",
    "            \n",
    "            else:\n",
    "                return \"Strings are not an anagram\"\n",
    "            # print(s3,s4)\n",
    "        else:\n",
    "            return \"Strings are not an anagram\"\n",
    "\n",
    "#Drivercode\n",
    "\n",
    "print(string_anagram(\"silent\",\"listen\"))\n",
    "print\n",
    "(string_anagram(\"abcdd\",\"abbcd\"))\n"
   ]
  },
  {
   "cell_type": "code",
   "execution_count": 77,
   "metadata": {},
   "outputs": [
    {
     "data": {
      "text/plain": [
       "'First non-repeating character is f'"
      ]
     },
     "execution_count": 77,
     "metadata": {},
     "output_type": "execute_result"
    }
   ],
   "source": [
    "# ans - 22\n",
    "\n",
    "def first_nonrepeating_char(s):\n",
    "    if len(s) == 0:\n",
    "        return \"empty string\"\n",
    "    \n",
    "    else:\n",
    "        idx = -1\n",
    "        for i in s:\n",
    "            if s.count(i) == 1:\n",
    "                return f\"First non-repeating character is {i}\"\n",
    "            else:\n",
    "                idx += 1\n",
    "\n",
    "        if idx == len(s)-1:\n",
    "            print(\"All character are non-repeating\")\n",
    "         \n",
    "# Drivercode\n",
    "\n",
    "string = \"geeksforgeeks\"\n",
    "first_nonrepeating_char(string)"
   ]
  },
  {
   "cell_type": "code",
   "execution_count": 80,
   "metadata": {},
   "outputs": [
    {
     "data": {
      "text/plain": [
       "[2, 2, 2, 2, 2, 7]"
      ]
     },
     "execution_count": 80,
     "metadata": {},
     "output_type": "execute_result"
    }
   ],
   "source": [
    "# ans - 23\n",
    "import math\n",
    "\n",
    "def prime_factors(num):\n",
    "    factors = []\n",
    "\n",
    "    while num %2 == 0:\n",
    "        factors.append(2)\n",
    "        num = num/2\n",
    "\n",
    "    n1 = int(math.sqrt(n))+1\n",
    "    for i in range(3, n1, 2):\n",
    "        while num % i == 0:\n",
    "            factors.append(i)\n",
    "            num = num/i \n",
    "\n",
    "    if num > 2:\n",
    "        factors.append(int(num))\n",
    "\n",
    "    return factors\n",
    "\n",
    "# Drivercode\n",
    "num = 224\n",
    "prime_factors(num)\n",
    "\n",
    "# tc = O(sqrt(n))"
   ]
  },
  {
   "cell_type": "code",
   "execution_count": 92,
   "metadata": {},
   "outputs": [
    {
     "data": {
      "text/plain": [
       "False"
      ]
     },
     "execution_count": 92,
     "metadata": {},
     "output_type": "execute_result"
    }
   ],
   "source": [
    "# ans - 24\n",
    "\n",
    "def power_of_2(num):\n",
    "    if num == 0:\n",
    "        return False\n",
    "    elif num == 1:\n",
    "        return True\n",
    "    else:\n",
    "        count = 0\n",
    "        while num != 1:\n",
    "            if num %2 != 0:\n",
    "                # count += 1\n",
    "                return False\n",
    "            num = num//2\n",
    "            count += 1\n",
    "           \n",
    "\n",
    "        return True\n",
    "        \n",
    "# Drivercode\n",
    "\n",
    "power_of_2(332)"
   ]
  },
  {
   "cell_type": "code",
   "execution_count": 100,
   "metadata": {},
   "outputs": [
    {
     "data": {
      "text/plain": [
       "[-1, 0, 23, 34, 45, 56, 67, 67, 89, 90]"
      ]
     },
     "execution_count": 100,
     "metadata": {},
     "output_type": "execute_result"
    }
   ],
   "source": [
    "# ans- 25\n",
    "\n",
    "def merge_sorted_list(l1, l2, n1, n2):\n",
    "    i,j,k = 0,0,0\n",
    "    res = [0] * (n1+n2)\n",
    "    # print(l1,l2,n1,n2,res)\n",
    "    while i < n1 and j < n2 :\n",
    "        if l1[i] < l2[j]:\n",
    "            res[k] = l1[i]\n",
    "            i += 1\n",
    "        else:\n",
    "            res[k] = l2[j]\n",
    "            j += 1\n",
    "        k +=  1\n",
    "\n",
    "    while i < n1:\n",
    "        res[k] = l1[i]\n",
    "        i += 1\n",
    "        k += 1\n",
    "\n",
    "    while j < n2:\n",
    "        res[k] = l2[j]\n",
    "        j += 1\n",
    "        k += 1\n",
    "\n",
    "\n",
    "    return res\n",
    "\n",
    "# Drivercode\n",
    "\n",
    "a1 = [23,45,67,89,90]\n",
    "a2 = [-1,0, 34,56,67]\n",
    "merge_sorted_list(a1, a2, len(a1), len(a2))"
   ]
  },
  {
   "cell_type": "code",
   "execution_count": 108,
   "metadata": {},
   "outputs": [
    {
     "data": {
      "text/plain": [
       "[3, 24]"
      ]
     },
     "execution_count": 108,
     "metadata": {},
     "output_type": "execute_result"
    }
   ],
   "source": [
    "# ans - 26\n",
    "\n",
    "def mode(arr):\n",
    "    hmap = {}\n",
    "    for i in arr:\n",
    "        if i not in hmap:\n",
    "            hmap[i] = 1\n",
    "        else:\n",
    "            hmap[i] = hmap[i] + 1\n",
    "    # print(hmap)   \n",
    "    m = max(hmap.values())\n",
    "    res = [i for i in hmap if hmap[i] == m]\n",
    "    return res\n",
    "\n",
    "\n",
    "# Drivercode\n",
    "\n",
    "a = [1,2,3,24,3,2,5,24,3,24]\n",
    "mode(a)"
   ]
  },
  {
   "cell_type": "code",
   "execution_count": 120,
   "metadata": {},
   "outputs": [
    {
     "data": {
      "text/plain": [
       "3"
      ]
     },
     "execution_count": 120,
     "metadata": {},
     "output_type": "execute_result"
    }
   ],
   "source": [
    "# ans - 27\n",
    "\n",
    "def gcd(num1, num2):\n",
    "\n",
    "    if num2 == 0:\n",
    "        return num1\n",
    "    else:\n",
    "        return gcd(num2, (num1%num2))\n",
    "    \n",
    "\n",
    "# Drivercode\n",
    "\n",
    "num1 = 99\n",
    "num2 = 30\n",
    "gcd(num1,num2)"
   ]
  },
  {
   "cell_type": "code",
   "execution_count": 123,
   "metadata": {},
   "outputs": [
    {
     "data": {
      "text/plain": [
       "12"
      ]
     },
     "execution_count": 123,
     "metadata": {},
     "output_type": "execute_result"
    }
   ],
   "source": [
    "# ans - 28\n",
    "\n",
    "def sq_root(num):\n",
    "\n",
    "    if num == 0 or num == 1:\n",
    "        return num\n",
    "    \n",
    "    \n",
    "    start = 1\n",
    "    end = num // 2\n",
    "\n",
    "    while start <= end:\n",
    "        mid = start + (end-start)//2\n",
    "        if (mid * mid )== num:\n",
    "            return mid\n",
    "        \n",
    "        if (mid * mid) < num:\n",
    "            start = mid + 1\n",
    "            root = mid\n",
    "        \n",
    "        else:\n",
    "            end = mid - 1\n",
    "\n",
    "    return root\n",
    "\n",
    "\n",
    "\n",
    "\n",
    "# Drivercode\n",
    "\n",
    "n = 156\n",
    "sq_root(n)\n",
    "\n",
    "# tc = O(log n)"
   ]
  },
  {
   "cell_type": "code",
   "execution_count": 141,
   "metadata": {},
   "outputs": [
    {
     "data": {
      "text/plain": [
       "'palindrome'"
      ]
     },
     "execution_count": 141,
     "metadata": {},
     "output_type": "execute_result"
    }
   ],
   "source": [
    "# ans - 29\n",
    "\n",
    "def string_palindrome(s1):\n",
    "    if s1 == \"\":\n",
    "        return \"\"\n",
    "    else:\n",
    "        s1 = s1.lower()\n",
    "        s2 = s1[::-1]\n",
    "        if s1 == s2:\n",
    "            return \"palindrome\"\n",
    "        else:\n",
    "            return \"not palindrome\"\n",
    "        \n",
    "# Drivercode.\n",
    "\n",
    "s  = \"123malayalam321\"\n",
    "\n",
    "string_palindrome(s)"
   ]
  },
  {
   "cell_type": "code",
   "execution_count": 128,
   "metadata": {},
   "outputs": [
    {
     "data": {
      "text/plain": [
       "1"
      ]
     },
     "execution_count": 128,
     "metadata": {},
     "output_type": "execute_result"
    }
   ],
   "source": [
    "# ans - 30\n",
    "\n",
    "def find_min(arr, low, n):\n",
    "    if arr[low] <= arr[n]:\n",
    "        # If the array is not rotated\n",
    "        return arr[i]\n",
    "\n",
    "    #binary search\n",
    "    while low <= n:\n",
    "        mid = low + (n - low)//2\n",
    "\n",
    "        # Check if mid is the minimum element\n",
    "        if arr[mid] < arr[mid -1]:\n",
    "            return arr[mid]\n",
    "        \n",
    "        # If the right half is sorted, the minimum element must be in the left half\n",
    "        if arr[mid] > arr[n]:\n",
    "            low = mid + 1\n",
    "\n",
    "        # If the left half is sorted, the minimum element must be in the right half\n",
    "        else:\n",
    "            n = mid - 1\n",
    " \n",
    "        \n",
    "    return None\n",
    "        \n",
    "\n",
    "\n",
    "\n",
    "# Drivercode\n",
    "\n",
    "arr = [5, 6, 1, 2, 3, 4]\n",
    "n = len(arr) - 1\n",
    "find_min(arr, 0, n)\n"
   ]
  },
  {
   "attachments": {},
   "cell_type": "markdown",
   "metadata": {},
   "source": [
    "31. Write a program to find the sum of all even numbers in a list.\n",
    "32. Implement a function to calculate the power of a number using recursion.\n",
    "33. Write a Python program to remove duplicates from a list while preserving the order.\n",
    "34. Implement a function to find the longest common prefix among a list of strings.\n",
    "35. Write a program to check if a given number is a perfect square.\n",
    "36. Implement a function to calculate the product of all elements in a list.\n",
    "37. Write a Python program to reverse the order of words in a sentence while preserving the word order.\n",
    "38. Implement a function to find the missing number in a given list of consecutive numbers.\n",
    "39. Write a program to find the sum of digits of a given number.\n",
    "40. Implement a function to check if a given string is a valid palindrome considering case sensitivity."
   ]
  },
  {
   "cell_type": "code",
   "execution_count": 129,
   "metadata": {},
   "outputs": [
    {
     "data": {
      "text/plain": [
       "22"
      ]
     },
     "execution_count": 129,
     "metadata": {},
     "output_type": "execute_result"
    }
   ],
   "source": [
    "# ans - 31\n",
    "\n",
    "def sum_of_evens(arr):\n",
    "    sum = 0\n",
    "    for i in arr:\n",
    "        if i%2 == 0:\n",
    "            sum += i\n",
    "    return sum \n",
    "\n",
    "# Drivercode\n",
    "\n",
    "arr  = [33,45,67,8,2,12]\n",
    "sum_of_evens(arr)"
   ]
  },
  {
   "cell_type": "code",
   "execution_count": 134,
   "metadata": {},
   "outputs": [
    {
     "data": {
      "text/plain": [
       "9765625"
      ]
     },
     "execution_count": 134,
     "metadata": {},
     "output_type": "execute_result"
    }
   ],
   "source": [
    "# ans - 32\n",
    "\n",
    "def power(n,m):\n",
    "    if m == 0:\n",
    "        return 1\n",
    "    elif m == 1:\n",
    "        return n\n",
    "    else:\n",
    "        return  n * (power(n,m-1))\n",
    "    \n",
    "# Drivercode.\n",
    "\n",
    "# power(2,0)\n",
    "# power(2,1)\n",
    "power(25, 5)"
   ]
  },
  {
   "cell_type": "code",
   "execution_count": null,
   "metadata": {},
   "outputs": [],
   "source": [
    "# ans - 33\n",
    "\n",
    "def remove_duplicates(arr, n):\n",
    "    pass\n",
    "\n",
    "# Drivercode\n",
    "l = [1,2,1,3,1,0,1,1,3]\n",
    "n = len(n)\n",
    "remove_dulplicates(l,n)\n"
   ]
  },
  {
   "cell_type": "code",
   "execution_count": 12,
   "metadata": {},
   "outputs": [
    {
     "name": "stdout",
     "output_type": "stream",
     "text": [
      "fly\n"
     ]
    }
   ],
   "source": [
    "# ans - 34\n",
    "\n",
    "# Iterate through the string one by one from S1 till SN.\n",
    "# For each iteration till ith index, the LCP(S1…Si) can be obtained.\n",
    "# In case, the LCP is an empty string, terminate loop and return the empty string.\n",
    "# Else, continue and after scanning of N strings, the LCP(S1…SN) can be obtained.\n",
    "\n",
    "def longestCommonPrefix(s):\n",
    "    if \"\" in s or s == []:\n",
    "        return \"\"\n",
    "    \n",
    "    prefix = s[0]\n",
    "    for i in range(1, len(s)):\n",
    "        while(prefix != \"\"):\n",
    "            # print(prefix, i)\n",
    "            try:\n",
    "                if str.index(str(s[i]), prefix) == 0:\n",
    "                    break\n",
    "                else:\n",
    "                    prefix = prefix[:-1]\n",
    "\n",
    "            except:\n",
    "                prefix = prefix[:-1]\n",
    "\n",
    "    return prefix\n",
    "\n",
    "# Drivercode\n",
    "\n",
    "s = ['flyower', 'flyow', 'flyight']\n",
    "print(longestCommonPrefix(s))"
   ]
  },
  {
   "cell_type": "code",
   "execution_count": 13,
   "metadata": {},
   "outputs": [
    {
     "name": "stdout",
     "output_type": "stream",
     "text": [
      "True\n"
     ]
    }
   ],
   "source": [
    "# ans - 35\n",
    "\n",
    "def isPerfectSquare( num):\n",
    " \n",
    "    n = num\n",
    "    lo = 1\n",
    "    hi = num\n",
    "    while (hi - lo > 1) :\n",
    "        mid = (int)(hi + lo) / 2\n",
    "        if (num == 1) :\n",
    "            return True\n",
    "         \n",
    "        elif (mid * mid == num) :\n",
    "            return True\n",
    "         \n",
    "        elif (mid * mid > num) :\n",
    "            hi = mid - 1\n",
    "         \n",
    "        elif (mid * mid < num) :\n",
    "            lo = mid + 1\n",
    "         \n",
    "     \n",
    "    if (lo * lo == num or hi * hi == num) :\n",
    "        return True\n",
    "     \n",
    "    return False\n",
    " \n",
    "n = 676\n",
    "print(isPerfectSquare(n))\n",
    " "
   ]
  },
  {
   "cell_type": "code",
   "execution_count": 136,
   "metadata": {},
   "outputs": [
    {
     "data": {
      "text/plain": [
       "-10948"
      ]
     },
     "execution_count": 136,
     "metadata": {},
     "output_type": "execute_result"
    }
   ],
   "source": [
    "# ans -  36\n",
    "\n",
    "def product(arr):\n",
    "    if 0 in arr:\n",
    "        return 0\n",
    "    else:\n",
    "        p = 1\n",
    "        for i in arr:\n",
    "            p *= i\n",
    "\n",
    "    return p\n",
    "\n",
    "# Drivercode\n",
    "\n",
    "product([-1,23,-34,2,-7])"
   ]
  },
  {
   "cell_type": "code",
   "execution_count": 138,
   "metadata": {},
   "outputs": [
    {
     "data": {
      "text/plain": [
       "'order word the preserving while sentence a in words of order the reverse to program Python a Write'"
      ]
     },
     "execution_count": 138,
     "metadata": {},
     "output_type": "execute_result"
    }
   ],
   "source": [
    "# ans - 37\n",
    "\n",
    "def reverse_order_of_words(sentence):\n",
    "    words = list(sentence.split(\" \"))\n",
    "    # print(words)\n",
    "    rev = \"\"\n",
    "    # for i in range(len(words)- 1, -1, -1):\n",
    "    #     # rev += words[i] + \" \"\n",
    "        \n",
    "    rev = \" \".join(words[::-1])\n",
    "    \n",
    "    return rev\n",
    "\n",
    "# Drivercode\n",
    "\n",
    "sentence = \"Write a Python program to reverse the order of words in a sentence while preserving the word order\"\n",
    "reverse_order_of_words(sentence)"
   ]
  },
  {
   "cell_type": "code",
   "execution_count": 15,
   "metadata": {},
   "outputs": [
    {
     "data": {
      "text/plain": [
       "8"
      ]
     },
     "execution_count": 15,
     "metadata": {},
     "output_type": "execute_result"
    }
   ],
   "source": [
    "# ans - 38\n",
    "\n",
    "def missing_number(A):\n",
    "    n = len(A)\n",
    "    left, right = 0, n - 1\n",
    "    mid = 0\n",
    "\n",
    "    while (right > left):\n",
    "        mid = left + (right - left) // 2\n",
    "\n",
    "        if (A[mid] - mid == A[0]):\n",
    "            if (A[mid + 1] - A[mid] > 1):\n",
    "                return A[mid] + 1\n",
    "            else:\n",
    "                left = mid + 1\n",
    "        else:\n",
    "            if (A[mid] - A[mid - 1] > 1):\n",
    "                return A[mid] - 1\n",
    "            else:\n",
    "                right = mid - 1\n",
    "\n",
    "    return -1\n",
    "\n",
    "A = [1, 2, 3, 4, 5, 6, 7, 9]\n",
    "\n",
    "missing_number(A)"
   ]
  },
  {
   "cell_type": "code",
   "execution_count": 140,
   "metadata": {},
   "outputs": [
    {
     "data": {
      "text/plain": [
       "6"
      ]
     },
     "execution_count": 140,
     "metadata": {},
     "output_type": "execute_result"
    }
   ],
   "source": [
    "# ans - 39\n",
    "\n",
    "def sumofdigits(num):\n",
    "    sum = 0\n",
    "    while num != 0:\n",
    "        digit = num% 10\n",
    "        sum += digit\n",
    "        num = num//10\n",
    "    return sum\n",
    "\n",
    "# Drivercode\n",
    "\n",
    "sumofdigits(10023)"
   ]
  },
  {
   "cell_type": "code",
   "execution_count": 143,
   "metadata": {},
   "outputs": [
    {
     "data": {
      "text/plain": [
       "'not palindrome'"
      ]
     },
     "execution_count": 143,
     "metadata": {},
     "output_type": "execute_result"
    }
   ],
   "source": [
    "# ans -  40\n",
    "\n",
    "\n",
    "def string_palindrome(s1):\n",
    "    if s1 == \"\":\n",
    "        return \"\"\n",
    "    else:\n",
    "        s2 = s1[::-1]\n",
    "        if s1 == s2:\n",
    "            return \"palindrome\"\n",
    "        else:\n",
    "            return \"not palindrome\"\n",
    "        \n",
    "# Drivercode.\n",
    "\n",
    "s  = \"123Malayalam321\"\n",
    "\n",
    "string_palindrome(s)"
   ]
  },
  {
   "attachments": {},
   "cell_type": "markdown",
   "metadata": {},
   "source": [
    "41. Write a Python program to find the smallest missing positive integer in a list.\n",
    "42. Implement a function to find the longest palindrome substring in a given string.\n",
    "43. Write a program to find the number of occurrences of a given element in a list.\n",
    "44. Implement a function to check if a given number is a perfect number.\n",
    "45. Write a Python program to remove all duplicates from a string.\n",
    "46. Implement a function to find the first missing positive"
   ]
  },
  {
   "cell_type": "code",
   "execution_count": 20,
   "metadata": {},
   "outputs": [
    {
     "data": {
      "text/plain": [
       "3"
      ]
     },
     "execution_count": 20,
     "metadata": {},
     "output_type": "execute_result"
    }
   ],
   "source": [
    "# ans - 41\n",
    "\n",
    "def getMEX(a):\n",
    "    n = len(a)\n",
    "    b = a\n",
    "    hash = set(b)\n",
    "    for i in range(1, n + 2):\n",
    "        if i not in hash:\n",
    "            return i\n",
    "        \n",
    "a = [-1,-4,5,8,-8,0,1,2]\n",
    "getMEX(a) "
   ]
  },
  {
   "cell_type": "code",
   "execution_count": 21,
   "metadata": {},
   "outputs": [
    {
     "data": {
      "text/plain": [
       "'bab'"
      ]
     },
     "execution_count": 21,
     "metadata": {},
     "output_type": "execute_result"
    }
   ],
   "source": [
    "# ans - 42\n",
    "\n",
    "def longestPalindrome( s: str) -> str:\n",
    "    def check(i, j):\n",
    "        left = i\n",
    "        right = j - 1\n",
    "        \n",
    "        while left < right:\n",
    "            if s[left] != s[right]:\n",
    "                return False\n",
    "            \n",
    "            left += 1\n",
    "            right -= 1\n",
    "        \n",
    "        return True\n",
    "    \n",
    "    for length in range(len(s), 0, -1):\n",
    "        for start in range(len(s) - length + 1):\n",
    "            if check(start, start + length):\n",
    "                return s[start:start + length]\n",
    "\n",
    "    return \"\"\n",
    "\n",
    "\n",
    "s = \"babad\"\n",
    "longestPalindrome(s)"
   ]
  },
  {
   "cell_type": "code",
   "execution_count": 1,
   "metadata": {},
   "outputs": [
    {
     "data": {
      "text/plain": [
       "{1: 3, 2: 1, 3: 2, 4: 2, 6: 2, 0: 1}"
      ]
     },
     "execution_count": 1,
     "metadata": {},
     "output_type": "execute_result"
    }
   ],
   "source": [
    "# ans - 43\n",
    "\n",
    "def occurence_of_list(lst: list):\n",
    "    record = dict()\n",
    "\n",
    "    for i in lst:\n",
    "        if i not in record:\n",
    "            record[i] = 1\n",
    "        else:\n",
    "            record[i] = record[i] + 1\n",
    "\n",
    "    return record\n",
    "\n",
    "l = [1,1,2,3,4,3,4,6,1,6,0]\n",
    "occurence_of_list(l)"
   ]
  },
  {
   "cell_type": "code",
   "execution_count": 22,
   "metadata": {},
   "outputs": [
    {
     "name": "stdout",
     "output_type": "stream",
     "text": [
      "The number is a Perfect number\n"
     ]
    }
   ],
   "source": [
    "# ans - 44\n",
    "\n",
    "def perfect_number(num):\n",
    "    sum = 0\n",
    "    for i in range(1, num//2 + 1):\n",
    "        if num % i == 0:\n",
    "            sum = sum + i\n",
    "\n",
    "    if sum == num:\n",
    "        print(\"The number is a Perfect number\")\n",
    "    else:\n",
    "        print(\"The number is not a Perfect number\")\n",
    "\n",
    "perfect_number(28)"
   ]
  },
  {
   "cell_type": "code",
   "execution_count": 24,
   "metadata": {},
   "outputs": [
    {
     "data": {
      "text/plain": [
       "'abc'"
      ]
     },
     "execution_count": 24,
     "metadata": {},
     "output_type": "execute_result"
    }
   ],
   "source": [
    "# ans - 45\n",
    "\n",
    "def removeDuplicateLetters(s: str) -> str:\n",
    "        \n",
    "    last_occ = {}\n",
    "    stack = []\n",
    "    visited = set()\n",
    "\n",
    "    for i in range(len(s)):\n",
    "        last_occ[s[i]] = i\n",
    "\n",
    "    for i in range(len(s)):\n",
    "\n",
    "        if s[i] not in visited:\n",
    "            while (stack and stack[-1] > s[i] and last_occ[stack[-1]] > i):\n",
    "                visited.remove(stack.pop())\n",
    "\n",
    "            stack.append(s[i])\n",
    "            visited.add(s[i])\n",
    "\n",
    "    return ''.join(stack)\n",
    "\n",
    "s = \"bcabc\"\n",
    "removeDuplicateLetters(s)"
   ]
  },
  {
   "cell_type": "code",
   "execution_count": 25,
   "metadata": {},
   "outputs": [
    {
     "data": {
      "text/plain": [
       "3"
      ]
     },
     "execution_count": 25,
     "metadata": {},
     "output_type": "execute_result"
    }
   ],
   "source": [
    "# ans - 46\n",
    "\n",
    "def missimg_positive_integer(a):\n",
    "    n = len(a)\n",
    "    b = a\n",
    "    hash = set(b)\n",
    "    for i in range(1, n + 2):\n",
    "        if i not in hash:\n",
    "            return i\n",
    "        \n",
    "a = [-1,-4,5,8,-8,0,1,2]\n",
    "missimg_positive_integer(a) "
   ]
  },
  {
   "cell_type": "code",
   "execution_count": null,
   "metadata": {},
   "outputs": [],
   "source": []
  }
 ],
 "metadata": {
  "kernelspec": {
   "display_name": "base",
   "language": "python",
   "name": "python3"
  },
  "language_info": {
   "codemirror_mode": {
    "name": "ipython",
    "version": 3
   },
   "file_extension": ".py",
   "mimetype": "text/x-python",
   "name": "python",
   "nbconvert_exporter": "python",
   "pygments_lexer": "ipython3",
   "version": "3.9.13"
  },
  "orig_nbformat": 4
 },
 "nbformat": 4,
 "nbformat_minor": 2
}
