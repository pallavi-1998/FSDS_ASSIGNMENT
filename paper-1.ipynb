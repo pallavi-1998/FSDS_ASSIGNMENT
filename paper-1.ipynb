{
 "cells": [
  {
   "attachments": {},
   "cell_type": "markdown",
   "metadata": {},
   "source": [
    "17. Write a function that takes a list of numbers as input and returns a new list containing only the even numbers from the input list. Use list comprehension to solve this problem."
   ]
  },
  {
   "cell_type": "code",
   "execution_count": 1,
   "metadata": {},
   "outputs": [
    {
     "data": {
      "text/plain": [
       "[2, 4, 6, 8, 10]"
      ]
     },
     "execution_count": 1,
     "metadata": {},
     "output_type": "execute_result"
    }
   ],
   "source": [
    "def task1(lst:list):\n",
    "    res = [i for i in lst if i%2 == 0]\n",
    "    return res\n",
    "\n",
    "l1 =  [1, 2, 3, 4, 5, 6, 7, 8, 9, 10]\n",
    "task1(l1)"
   ]
  },
  {
   "attachments": {},
   "cell_type": "markdown",
   "metadata": {},
   "source": [
    "18. Implement a decorator function called ‘timer’ that measures the execution time of a function. The ‘timer’ decorator should print the time taken by the decorated function to execute. Use the ‘time’ module in Python to calculate the execution time."
   ]
  },
  {
   "cell_type": "code",
   "execution_count": 9,
   "metadata": {},
   "outputs": [],
   "source": [
    "import time\n",
    "def timer(func):\n",
    "    def task3():\n",
    "        start = time.time()\n",
    "        print(\"timer decorator called\")\n",
    "        func()\n",
    "        end = time.time()\n",
    "        exe_time = end - start\n",
    "        print(f\"Executin time : {exe_time} seconds\")\n",
    "\n",
    "    return task3\n"
   ]
  },
  {
   "cell_type": "code",
   "execution_count": 10,
   "metadata": {},
   "outputs": [
    {
     "name": "stdout",
     "output_type": "stream",
     "text": [
      "timer decorator called\n",
      "Executin time : 2.0069620609283447 seconds\n"
     ]
    }
   ],
   "source": [
    "@timer\n",
    "def my_function():\n",
    "    # Function code goes here   \n",
    "    time.sleep(2)\n",
    "\n",
    "my_function()\n"
   ]
  },
  {
   "attachments": {},
   "cell_type": "markdown",
   "metadata": {},
   "source": [
    "19. Write a function called ‘calculate_mean’ that takes a list of numbers as input and returns the mean (average) of the numbers. The function should calculate the mean using the sum of the numbers divided by the total count."
   ]
  },
  {
   "cell_type": "code",
   "execution_count": 25,
   "metadata": {},
   "outputs": [
    {
     "name": "stdout",
     "output_type": "stream",
     "text": [
      "Calculating mean within decorator\n",
      "Mean: 20.0\n"
     ]
    }
   ],
   "source": [
    "def my_decorator_func(func):\n",
    "\n",
    "    def wrapper_func(*args):\n",
    "        print(\"Calculating mean within decorator\")\n",
    "        func(*args)\n",
    "        mean = sum(args[0])/len(args[0])\n",
    "        print(\"Mean:\", mean)\n",
    "    return wrapper_func\n",
    "\n",
    "\n",
    "@my_decorator_func\n",
    "def calculate_mean(my_arg):\n",
    "    pass\n",
    "\n",
    "data = [10, 15, 20, 25, 30]\n",
    "calculate_mean(data)"
   ]
  },
  {
   "attachments": {},
   "cell_type": "markdown",
   "metadata": {},
   "source": [
    "20. Write a function called ‘perform_hypothesis_test’ that takes two lists of numbers as input, representing two samples. The function should perform a two-sample t-test and return the p-value. Use the ‘scipy.stats’ module in Python to calculate the t-test and p-value."
   ]
  },
  {
   "cell_type": "code",
   "execution_count": 38,
   "metadata": {},
   "outputs": [],
   "source": [
    "import scipy.stats as st\n",
    "def decorate(func):\n",
    "\n",
    "    def wrapper_func(*args):\n",
    "        print(\"p-value calculation: \")\n",
    "        func(*args)\n",
    "        t_statistics, p_value = st.ttest_ind(args[0], args[1])\n",
    "        # return p_value\n",
    "        print(f\"for sample1 = {args[0]} and sample2 = {args[1]} is {p_value}\" )\n",
    "    return wrapper_func"
   ]
  },
  {
   "cell_type": "code",
   "execution_count": 39,
   "metadata": {},
   "outputs": [
    {
     "name": "stdout",
     "output_type": "stream",
     "text": [
      "p-value calculation: \n",
      "for sample1 = [5, 10, 15, 20, 25] and sample2 = [10, 20, 30, 40, 50] is 0.09434977284243756\n"
     ]
    }
   ],
   "source": [
    "@decorate\n",
    "def perform_hypothesis_test(sample1, sample2):\n",
    "    pass\n",
    "\n",
    "sample1 = [5, 10, 15, 20, 25]\n",
    "sample2 = [10, 20, 30, 40, 50]\n",
    "\n",
    "perform_hypothesis_test(sample1, sample2)"
   ]
  }
 ],
 "metadata": {
  "kernelspec": {
   "display_name": "base",
   "language": "python",
   "name": "python3"
  },
  "language_info": {
   "codemirror_mode": {
    "name": "ipython",
    "version": 3
   },
   "file_extension": ".py",
   "mimetype": "text/x-python",
   "name": "python",
   "nbconvert_exporter": "python",
   "pygments_lexer": "ipython3",
   "version": "3.9.13"
  },
  "orig_nbformat": 4
 },
 "nbformat": 4,
 "nbformat_minor": 2
}
