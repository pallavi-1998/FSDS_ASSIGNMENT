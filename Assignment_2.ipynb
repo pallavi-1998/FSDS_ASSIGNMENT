{
 "cells": [
  {
   "cell_type": "code",
   "execution_count": 5,
   "metadata": {},
   "outputs": [
    {
     "name": "stdout",
     "output_type": "stream",
     "text": [
      "[12, 75, 150, 180, 145, 525, 50]\n",
      "largest among numbers = 525\n"
     ]
    }
   ],
   "source": [
    "#answer 1\n",
    "numbers = [12, 75, 150, 180, 145, 525, 50]\n",
    "largest = numbers[0]\n",
    "for x in numbers:\n",
    "    if x > largest :\n",
    "        largest = x\n",
    "print(numbers)\n",
    "print(f\"largest among numbers = {largest}\")\n",
    "    "
   ]
  },
  {
   "cell_type": "code",
   "execution_count": 6,
   "metadata": {},
   "outputs": [
    {
     "name": "stdout",
     "output_type": "stream",
     "text": [
      "[2, 4, 6, 8, 10, 12]\n"
     ]
    }
   ],
   "source": [
    "#answer 2 \n",
    "list = []\n",
    "for x in range(1,13):\n",
    "    if x % 2 == 0:\n",
    "        list.append(x)\n",
    "print(list)"
   ]
  },
  {
   "cell_type": "code",
   "execution_count": 7,
   "metadata": {},
   "outputs": [
    {
     "name": "stdout",
     "output_type": "stream",
     "text": [
      "sum of numbers upto 10 = 55\n"
     ]
    }
   ],
   "source": [
    "#anseer 3\n",
    "num = int(input(\"enter a number: \"))\n",
    "sum = 0\n",
    "for x in range(1, num+1):\n",
    "    sum += x\n",
    "print(f\"sum of numbers upto {num} = {sum}\")"
   ]
  },
  {
   "cell_type": "code",
   "execution_count": 12,
   "metadata": {},
   "outputs": [
    {
     "name": "stdout",
     "output_type": "stream",
     "text": [
      "all numbers divisible by 5 = [75, 150, 180, 145, 525, 50]\n",
      "skip number greater that 150 = [12, 75, 150, 145, 50]\n",
      "stop execution greater that 500 = [12, 75, 150, 180, 145]\n"
     ]
    }
   ],
   "source": [
    "#answer 4\n",
    "l1, l2, l3 = [], [], []\n",
    "numbers = [12, 75, 150, 180, 145, 525, 50]\n",
    "for x in numbers:\n",
    "    if x % 5 == 0:\n",
    "        l1.append(x)\n",
    "print(f\"all numbers divisible by 5 = {l1}\")\n",
    "\n",
    "for x in numbers:\n",
    "    if x > 150:\n",
    "        continue\n",
    "    l2.append(x)\n",
    "print(\"skip number greater that 150 =\",l2)\n",
    "\n",
    "for x in numbers:\n",
    "    if x > 500:\n",
    "        break\n",
    "    l3.append(x)\n",
    "print(\"stop execution greater that 500 =\",l3)"
   ]
  },
  {
   "cell_type": "code",
   "execution_count": null,
   "metadata": {},
   "outputs": [],
   "source": [
    "#answer 5\n",
    "list1 = [10, 20, 30, 40, 50]\n",
    "print(list1[::-1])"
   ]
  }
 ],
 "metadata": {
  "kernelspec": {
   "display_name": "Python 3.8.10 64-bit",
   "language": "python",
   "name": "python3"
  },
  "language_info": {
   "codemirror_mode": {
    "name": "ipython",
    "version": 3
   },
   "file_extension": ".py",
   "mimetype": "text/x-python",
   "name": "python",
   "nbconvert_exporter": "python",
   "pygments_lexer": "ipython3",
   "version": "3.8.10"
  },
  "orig_nbformat": 4,
  "vscode": {
   "interpreter": {
    "hash": "916dbcbb3f70747c44a77c7bcd40155683ae19c65e1c03b4aa3499c5328201f1"
   }
  }
 },
 "nbformat": 4,
 "nbformat_minor": 2
}
