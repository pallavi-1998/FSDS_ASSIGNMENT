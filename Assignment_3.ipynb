{
 "cells": [
  {
   "cell_type": "code",
   "execution_count": 2,
   "metadata": {},
   "outputs": [
    {
     "name": "stdout",
     "output_type": "stream",
     "text": [
      "Input is not string\n"
     ]
    }
   ],
   "source": [
    "# 1.\n",
    "def length(s):\n",
    "    if type(s) == str:\n",
    "        count = 0\n",
    "        for i in s:\n",
    "            count += 1\n",
    "        return count\n",
    "    else:\n",
    "        return \"Input is not string\"\n",
    "\n",
    "res = length(123)\n",
    "print(res)\n"
   ]
  },
  {
   "cell_type": "code",
   "execution_count": 7,
   "metadata": {},
   "outputs": [
    {
     "name": "stdout",
     "output_type": "stream",
     "text": [
      " 9 is not in list\n"
     ]
    }
   ],
   "source": [
    "# 2.\n",
    "def ind(l, e):\n",
    "    if type(l) == list:\n",
    "        count = 0\n",
    "        for i in l:\n",
    "            if i == e:\n",
    "                return count\n",
    "            else:\n",
    "                count += 1\n",
    "        else:\n",
    "            return f\"{e} is not in list\"       \n",
    "\n",
    "res = ind([1, 2, 3, 4, 5, 6 ,7, 8], 9)\n",
    "print(res)    \n"
   ]
  },
  {
   "cell_type": "code",
   "execution_count": 8,
   "metadata": {},
   "outputs": [
    {
     "name": "stdout",
     "output_type": "stream",
     "text": [
      "('pallavi-HP-Laptop-15-di2xxx', '127.0.1.1')\n"
     ]
    }
   ],
   "source": [
    "# 3.\n",
    "import socket\n",
    "def get_ip_address():\n",
    "    h = socket.gethostname()\n",
    "    ip = socket.gethostbyname(h)\n",
    "    return h , ip\n",
    "\n",
    "res = get_ip_address()\n",
    "print(res)"
   ]
  },
  {
   "cell_type": "code",
   "execution_count": null,
   "metadata": {},
   "outputs": [],
   "source": [
    "# 4.\n",
    "import os\n",
    "def shutdown():\n",
    "    os.system(\"shutdown /s /t 1\")\n",
    "shutdown()"
   ]
  },
  {
   "cell_type": "code",
   "execution_count": 12,
   "metadata": {},
   "outputs": [
    {
     "name": "stdout",
     "output_type": "stream",
     "text": [
      "4132.8\n"
     ]
    }
   ],
   "source": [
    "# 5. \n",
    "def multiply(l):\n",
    "    if type(l) == list:\n",
    "        mul = 1\n",
    "        for i in l:\n",
    "            if type(i) == int or type(i) == float:\n",
    "                mul *= i\n",
    "            else:\n",
    "                continue\n",
    "        return mul\n",
    "\n",
    "print(round(multiply([3.5,6.56,4,\"hello\", \"kumar\", \"ineuron\",5, 9]),2))"
   ]
  },
  {
   "cell_type": "code",
   "execution_count": null,
   "metadata": {},
   "outputs": [],
   "source": []
  },
  {
   "cell_type": "code",
   "execution_count": null,
   "metadata": {},
   "outputs": [],
   "source": []
  }
 ],
 "metadata": {
  "kernelspec": {
   "display_name": "Python 3.8.10 64-bit",
   "language": "python",
   "name": "python3"
  },
  "language_info": {
   "codemirror_mode": {
    "name": "ipython",
    "version": 3
   },
   "file_extension": ".py",
   "mimetype": "text/x-python",
   "name": "python",
   "nbconvert_exporter": "python",
   "pygments_lexer": "ipython3",
   "version": "3.8.10"
  },
  "orig_nbformat": 4,
  "vscode": {
   "interpreter": {
    "hash": "916dbcbb3f70747c44a77c7bcd40155683ae19c65e1c03b4aa3499c5328201f1"
   }
  }
 },
 "nbformat": 4,
 "nbformat_minor": 2
}
