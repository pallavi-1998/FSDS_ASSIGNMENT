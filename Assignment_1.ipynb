{
 "cells": [
  {
   "cell_type": "markdown",
   "metadata": {},
   "source": [
    "## Assignment 1"
   ]
  },
  {
   "cell_type": "markdown",
   "metadata": {},
   "source": [
    "1. Indentation error occcurs when we do mistakes by providing extra tabs, whitespaces or by not writing a proper whitespaces or tabs wherever needed. \n",
    "It is important to have proper indentation so that code readability increases also the scope or extent of block statements will be maintained.\n",
    "Example -->"
   ]
  },
  {
   "cell_type": "code",
   "execution_count": 5,
   "metadata": {},
   "outputs": [
    {
     "ename": "IndentationError",
     "evalue": "expected an indented block (1377250099.py, line 3)",
     "output_type": "error",
     "traceback": [
      "\u001b[0;36m  Cell \u001b[0;32mIn [5], line 3\u001b[0;36m\u001b[0m\n\u001b[0;31m    print(\"hello this is three\")\u001b[0m\n\u001b[0m    ^\u001b[0m\n\u001b[0;31mIndentationError\u001b[0m\u001b[0;31m:\u001b[0m expected an indented block\n"
     ]
    }
   ],
   "source": [
    "#example of indentation error\n",
    "a = 4\n",
    "if(a != 3):\n",
    "print(\"hello this is three\")"
   ]
  },
  {
   "cell_type": "markdown",
   "metadata": {},
   "source": [
    "2. Correction of code"
   ]
  },
  {
   "cell_type": "code",
   "execution_count": 6,
   "metadata": {},
   "outputs": [
    {
     "name": "stdout",
     "output_type": "stream",
     "text": [
      "Since class started...\n",
      "Lets concentrate\n"
     ]
    }
   ],
   "source": [
    "class_started = bool(input(\"Hey friend, is class started?: [0-False/1-True]\"))\n",
    "if class_started == 1:\n",
    "   print(\"Since class started...\")\n",
    "   print(\"Lets concentrate\")\n",
    "else:\n",
    "   print(\"Since class is not started...\")\n",
    "   print(\"let's revise\") "
   ]
  },
  {
   "cell_type": "markdown",
   "metadata": {},
   "source": [
    "3. input() is always takes data as string"
   ]
  },
  {
   "cell_type": "code",
   "execution_count": 9,
   "metadata": {},
   "outputs": [
    {
     "name": "stdout",
     "output_type": "stream",
     "text": [
      "input function always takes input as string (a = @@@@@@@@@@@@2) datatype of a = <class 'str'>\n"
     ]
    }
   ],
   "source": [
    "a = input(\"enter any value/words/sysmbols/combination\")\n",
    "if type(a) == str:\n",
    "    print(f\"input function always takes input as string (a = {a}) datatype of a = {type(a)}\",)\n",
    "else:\n",
    "    print(\"other types than string are also possible to have from input function \")"
   ]
  },
  {
   "cell_type": "markdown",
   "metadata": {},
   "source": [
    "4. Finding largest value"
   ]
  },
  {
   "cell_type": "code",
   "execution_count": 12,
   "metadata": {},
   "outputs": [
    {
     "name": "stdout",
     "output_type": "stream",
     "text": [
      "b is largest = 50\n"
     ]
    }
   ],
   "source": [
    "a,b,c = 40,50,30\n",
    "if(a > b) and (a >c):\n",
    "    print(f\"a is largest = {a}\")\n",
    "elif b > c:\n",
    "    print(f\"b is largest = {b}\")\n",
    "else:\n",
    "    print(f\"c is largest = {c}\")"
   ]
  },
  {
   "cell_type": "markdown",
   "metadata": {},
   "source": [
    "5. Find the solution --------------\n",
    "\n",
    "a = 6\n",
    "b = 10\n",
    "print( not ( not a == 10 or not b == 10) )\n",
    "\n",
    "steps ---- statement | solution\n",
    " 1. b == 10 ----> True\n",
    " 2. not b == 10 ---> not true ----> False\n",
    " 3. a == 10 -----> False\n",
    " 4. not a == 10 ---> not False ----> True\n",
    " 5. (not a == 10 or not b == 10) ----> True or False ----> True\n",
    " 6. not ( not a == 10 or not b == 10) --------------------> not True --->False \n"
   ]
  },
  {
   "cell_type": "markdown",
   "metadata": {},
   "source": [
    "6. Find answer"
   ]
  },
  {
   "cell_type": "code",
   "execution_count": null,
   "metadata": {},
   "outputs": [],
   "source": [
    "#case 1: \n",
    "A = 5.0\n",
    "B = 10/2\n",
    "print(A is B)  #true as B = 5.0 same value and same data type then both A,B points to same location\n",
    "\n",
    "#case 2:\n",
    "A = 5.0\n",
    "B = int(10/2)\n",
    "print(A is B)   #false as B = 5 same value but different data type then both A,B points to different location\n",
    "\n",
    "#case 3.\n",
    "A = 5.0\n",
    "B = float(10/2)\n",
    "print(A is B)   #true as B = 5.0 same value and same data type then both A,B points to same location"
   ]
  },
  {
   "cell_type": "markdown",
   "metadata": {},
   "source": [
    "7. Program to chevk whether divisible by 3 or 5"
   ]
  },
  {
   "cell_type": "code",
   "execution_count": 1,
   "metadata": {},
   "outputs": [
    {
     "name": "stdout",
     "output_type": "stream",
     "text": [
      "12 is divisible by either 3 or 5\n"
     ]
    }
   ],
   "source": [
    "var_a = int(input(\"Enter a number: \"))\n",
    "if var_a % 3 == 0 or var_a % 5 == 0:\n",
    "    print(f\"{var_a} is divisible by either 3 or 5\")\n",
    "else:\n",
    "    print(f\"{var_a} is divisible by either 3 or 5\")"
   ]
  },
  {
   "cell_type": "markdown",
   "metadata": {},
   "source": [
    "8. Area of rectangle"
   ]
  },
  {
   "cell_type": "code",
   "execution_count": 3,
   "metadata": {},
   "outputs": [
    {
     "name": "stdout",
     "output_type": "stream",
     "text": [
      "This is Square and its area is : 144.0 sq units\n"
     ]
    }
   ],
   "source": [
    "length = float(input(\"Enter length of rectangle: \"))\n",
    "width = float(input(\"Enter width of rectangle: \"))\n",
    "if length == width :\n",
    "    print(f\"This is Square and its area is : {length * width} sq units\")\n",
    "else :\n",
    "    print(f\"This is Rectangle and its area is : {2*(length + width)} sq units\")"
   ]
  },
  {
   "cell_type": "markdown",
   "metadata": {},
   "source": [
    "9. Area of Circle"
   ]
  },
  {
   "cell_type": "code",
   "execution_count": 6,
   "metadata": {},
   "outputs": [
    {
     "name": "stdout",
     "output_type": "stream",
     "text": [
      "Areas of Circle_1 and Circle_2 are 31.4, 31.4 sq units\n",
      "Circle_1 and Circle_2 have equal area\n"
     ]
    }
   ],
   "source": [
    "radius_1 = float(input(\"Enter radius of circle_1: \"))\n",
    "radius_2 = float(input(\"Enter radius of circle_2: \"))\n",
    "area_1 = round(2*3.14*radius_1, 2)\n",
    "area_2 = round(2*3.14*radius_2, 2)\n",
    "print(f\"Areas of Circle_1 and Circle_2 are {area_1}, {area_2} sq units\")\n",
    "if radius_1 == radius_2 :\n",
    "    print(\"Circle_1 and Circle_2 have equal area\")\n",
    "elif radius_1 > radius_2:\n",
    "    print(\"Circle_1 has large area\")\n",
    "else:\n",
    "    print(\"Circle_2 has large area\")"
   ]
  },
  {
   "cell_type": "markdown",
   "metadata": {},
   "source": [
    "10. Leap year"
   ]
  },
  {
   "cell_type": "code",
   "execution_count": 10,
   "metadata": {},
   "outputs": [
    {
     "name": "stdout",
     "output_type": "stream",
     "text": [
      "2012 is a Leap year\n"
     ]
    }
   ],
   "source": [
    "year = int(input(\"Enter year: \"))\n",
    "if year % 100 == 0:\n",
    "    if year % 400 == 0:\n",
    "        print(f\"{year} is a Leap year\")\n",
    "    else: \n",
    "        print(f\"{year} is not a Leap year\")\n",
    "elif year % 4 == 0:\n",
    "    print(f\"{year} is a Leap year\")\n",
    "else: \n",
    "    print(f\"{year} is not a Leap year\")"
   ]
  }
 ],
 "metadata": {
  "kernelspec": {
   "display_name": "Python 3.8.10 64-bit",
   "language": "python",
   "name": "python3"
  },
  "language_info": {
   "codemirror_mode": {
    "name": "ipython",
    "version": 3
   },
   "file_extension": ".py",
   "mimetype": "text/x-python",
   "name": "python",
   "nbconvert_exporter": "python",
   "pygments_lexer": "ipython3",
   "version": "3.8.10"
  },
  "orig_nbformat": 4,
  "vscode": {
   "interpreter": {
    "hash": "916dbcbb3f70747c44a77c7bcd40155683ae19c65e1c03b4aa3499c5328201f1"
   }
  }
 },
 "nbformat": 4,
 "nbformat_minor": 2
}
